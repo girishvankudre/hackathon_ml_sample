{
 "cells": [
  {
   "cell_type": "code",
   "execution_count": 1,
   "metadata": {},
   "outputs": [],
   "source": [
    "import pandas as pd\n",
    "import numpy as np\n",
    "\n",
    "import matplotlib.pyplot as plt\n",
    "import seaborn as sns\n",
    "\n",
    "from datetime import datetime, timedelta,date\n",
    "\n",
    "from sklearn.model_selection import train_test_split\n",
    "from sklearn.cluster import KMeans\n",
    "from sklearn.ensemble import RandomForestRegressor\n",
    "from sklearn.feature_extraction import FeatureHasher\n",
    "from statsmodels.tools.eval_measures import rmse\n",
    "\n",
    "pd.set_option('display.max_columns', None)\n",
    "pd.set_option('display.max_rows', None)"
   ]
  },
  {
   "cell_type": "markdown",
   "metadata": {},
   "source": [
    "# Reading the file"
   ]
  },
  {
   "cell_type": "code",
   "execution_count": 2,
   "metadata": {},
   "outputs": [
    {
     "name": "stderr",
     "output_type": "stream",
     "text": [
      "/Users/pritigirishvankudre/opt/anaconda3/lib/python3.7/site-packages/IPython/core/interactiveshell.py:3058: DtypeWarning: Columns (9,10,14,15,21,41,51) have mixed types. Specify dtype option on import or set low_memory=False.\n",
      "  interactivity=interactivity, compiler=compiler, result=result)\n"
     ]
    }
   ],
   "source": [
    "final_inv_data = pd.read_csv('/Users/pritigirishvankudre/Capstone Project/data/Final_invoice.csv')"
   ]
  },
  {
   "cell_type": "code",
   "execution_count": 3,
   "metadata": {},
   "outputs": [
    {
     "data": {
      "text/html": [
       "<div>\n",
       "<style scoped>\n",
       "    .dataframe tbody tr th:only-of-type {\n",
       "        vertical-align: middle;\n",
       "    }\n",
       "\n",
       "    .dataframe tbody tr th {\n",
       "        vertical-align: top;\n",
       "    }\n",
       "\n",
       "    .dataframe thead th {\n",
       "        text-align: right;\n",
       "    }\n",
       "</style>\n",
       "<table border=\"1\" class=\"dataframe\">\n",
       "  <thead>\n",
       "    <tr style=\"text-align: right;\">\n",
       "      <th></th>\n",
       "      <th>Cust Type</th>\n",
       "      <th>Customer No.</th>\n",
       "      <th>District</th>\n",
       "      <th>JobCard Date</th>\n",
       "      <th>KMs Reading</th>\n",
       "      <th>Make</th>\n",
       "      <th>Model</th>\n",
       "      <th>Order Type</th>\n",
       "      <th>Plant</th>\n",
       "      <th>Total Amt Wtd Tax.</th>\n",
       "    </tr>\n",
       "  </thead>\n",
       "  <tbody>\n",
       "    <tr>\n",
       "      <td>0</td>\n",
       "      <td>Retail</td>\n",
       "      <td>67849</td>\n",
       "      <td>Maharashtra</td>\n",
       "      <td>2014-12-13</td>\n",
       "      <td>49317</td>\n",
       "      <td>GENERAL MOTORS</td>\n",
       "      <td>SPARK</td>\n",
       "      <td>Paid Service</td>\n",
       "      <td>BC01</td>\n",
       "      <td>4051.95</td>\n",
       "    </tr>\n",
       "    <tr>\n",
       "      <td>1</td>\n",
       "      <td>Retail</td>\n",
       "      <td>84419</td>\n",
       "      <td>Maharashtra</td>\n",
       "      <td>2015-01-02</td>\n",
       "      <td>78584</td>\n",
       "      <td>TATA MOTORS</td>\n",
       "      <td>INDICA</td>\n",
       "      <td>SMC Value Package</td>\n",
       "      <td>BC01</td>\n",
       "      <td>1001.29</td>\n",
       "    </tr>\n",
       "    <tr>\n",
       "      <td>2</td>\n",
       "      <td>Retail</td>\n",
       "      <td>81055</td>\n",
       "      <td>Maharashtra</td>\n",
       "      <td>2015-01-02</td>\n",
       "      <td>33985</td>\n",
       "      <td>MARUTI SUZUKI</td>\n",
       "      <td>ZEN</td>\n",
       "      <td>Running Repairs</td>\n",
       "      <td>BC01</td>\n",
       "      <td>233.14</td>\n",
       "    </tr>\n",
       "    <tr>\n",
       "      <td>3</td>\n",
       "      <td>Retail</td>\n",
       "      <td>84419</td>\n",
       "      <td>Maharashtra</td>\n",
       "      <td>2015-01-03</td>\n",
       "      <td>78584</td>\n",
       "      <td>TATA MOTORS</td>\n",
       "      <td>INDICA</td>\n",
       "      <td>SMC Redemption</td>\n",
       "      <td>BC01</td>\n",
       "      <td>0.00</td>\n",
       "    </tr>\n",
       "    <tr>\n",
       "      <td>4</td>\n",
       "      <td>Retail</td>\n",
       "      <td>18980</td>\n",
       "      <td>Maharashtra</td>\n",
       "      <td>2015-01-02</td>\n",
       "      <td>50057</td>\n",
       "      <td>HYUNDAI</td>\n",
       "      <td>SANTRO XING</td>\n",
       "      <td>Paid Service</td>\n",
       "      <td>BC01</td>\n",
       "      <td>2747.12</td>\n",
       "    </tr>\n",
       "  </tbody>\n",
       "</table>\n",
       "</div>"
      ],
      "text/plain": [
       "  Cust Type Customer No.     District JobCard Date  KMs Reading  \\\n",
       "0    Retail        67849  Maharashtra   2014-12-13        49317   \n",
       "1    Retail        84419  Maharashtra   2015-01-02        78584   \n",
       "2    Retail        81055  Maharashtra   2015-01-02        33985   \n",
       "3    Retail        84419  Maharashtra   2015-01-03        78584   \n",
       "4    Retail        18980  Maharashtra   2015-01-02        50057   \n",
       "\n",
       "             Make        Model         Order Type Plant  Total Amt Wtd Tax.  \n",
       "0  GENERAL MOTORS        SPARK       Paid Service  BC01             4051.95  \n",
       "1     TATA MOTORS       INDICA  SMC Value Package  BC01             1001.29  \n",
       "2   MARUTI SUZUKI          ZEN    Running Repairs  BC01              233.14  \n",
       "3     TATA MOTORS       INDICA     SMC Redemption  BC01                0.00  \n",
       "4         HYUNDAI  SANTRO XING       Paid Service  BC01             2747.12  "
      ]
     },
     "execution_count": 3,
     "metadata": {},
     "output_type": "execute_result"
    }
   ],
   "source": [
    "final_inv_data_final = final_inv_data[['Cust Type','Customer No.','District','JobCard Date','KMs Reading','Make','Model','Order Type','Plant','Total Amt Wtd Tax.']].copy()\n",
    "final_inv_data_final.head()"
   ]
  },
  {
   "cell_type": "code",
   "execution_count": 4,
   "metadata": {},
   "outputs": [],
   "source": [
    "final_inv_data_final.dropna(axis = 0,inplace=True)"
   ]
  },
  {
   "cell_type": "markdown",
   "metadata": {},
   "source": [
    "# Defining Required Functions"
   ]
  },
  {
   "cell_type": "code",
   "execution_count": 5,
   "metadata": {},
   "outputs": [],
   "source": [
    "'''\n",
    "Creating attributes of Recency, Frequency and Monetary value along with Mileage\n",
    "'''\n",
    "def RFM_feature(data): \n",
    "    rec = pd.DataFrame(data.groupby(['Customer No.','District','Model'])\n",
    "                       ['JobCard Date'].max()).reset_index()\n",
    "    rec['Recency'] = (rec['JobCard Date'].max() - rec['JobCard Date']).dt.days\n",
    "    rec.drop('JobCard Date',axis=1,inplace=True)\n",
    "\n",
    "    freq = pd.DataFrame(data.groupby(['Customer No.','District','Model'])\n",
    "                        ['JobCard Date'].count()).reset_index()\n",
    "    freq.columns = ['Customer No.','District','Model','Frequency']\n",
    "\n",
    "    rev = pd.DataFrame(data.groupby(['Customer No.','District','Model'])\n",
    "                       ['Total Amt Wtd Tax.'].sum()).reset_index()\n",
    "    rev.columns = ['Customer No.','District','Model','Revenue']\n",
    "\n",
    "    km = pd.DataFrame(data.groupby(['Customer No.','District','Model'])\n",
    "                      ['KMs Reading'].max()).reset_index()\n",
    "    km.columns = ['Customer No.','District','Model','Mileage']\n",
    "    \n",
    "    temp_df = pd.merge(rec,freq,on=['Customer No.','District','Model'])\n",
    "    temp_df = pd.merge(temp_df,km,on=['Customer No.','District','Model'])\n",
    "    temp_df = pd.merge(temp_df,rev,on=['Customer No.','District','Model'])\n",
    "    temp_df.head()\n",
    "    return temp_df"
   ]
  },
  {
   "cell_type": "code",
   "execution_count": 6,
   "metadata": {},
   "outputs": [],
   "source": [
    "'''\n",
    "To identify outliers in the dataset\n",
    "'''\n",
    "\n",
    "def get_outliers(self):\n",
    "        a_list = []\n",
    "        per_75 = np.percentile(self,75)\n",
    "        per_25 = np.percentile(self,25)\n",
    "        iqr = per_75-per_25\n",
    "        tot_75 = per_75 + (1.5*iqr)\n",
    "        tot_25 = per_25 - (1.5*iqr)\n",
    "        a_list1 = np.array(self).tolist()\n",
    "        for j in a_list1:\n",
    "            if j > tot_75:\n",
    "                a_list.append(j)\n",
    "            if j < tot_25:\n",
    "                a_list.append(j)\n",
    "        return a_list"
   ]
  },
  {
   "cell_type": "code",
   "execution_count": 7,
   "metadata": {},
   "outputs": [],
   "source": [
    "'''\n",
    "Visualization of outliers for boxplot and distribution plot and understanding the description\n",
    "'''\n",
    "\n",
    "def box_plot(data,variable):\n",
    "    boxplot = data.boxplot(column=[variable])\n",
    "    plt.show()\n",
    "    \n",
    "def dist_plot(data,variable):\n",
    "    sns.distplot(data[variable])\n",
    "    plt.axvline(data[variable].mean(), color='r', linestyle='--')\n",
    "    plt.axvline(data[variable].median(), color='g', linestyle='-')\n",
    "    plt.show()\n",
    "    print ('Mean for ',variable,' =',data[variable].mean())\n",
    "    print ('Median for ',variable,' =',data[variable].median())"
   ]
  },
  {
   "cell_type": "code",
   "execution_count": 8,
   "metadata": {},
   "outputs": [],
   "source": [
    "'''\n",
    "Treating for extreme outliers\n",
    "'''\n",
    "def outliers_treat(temp_df):\n",
    "    temp_df=temp_df[temp_df['Customer No.']!='E4981']\n",
    "    temp_df=temp_df[temp_df['Mileage']<150000]\n",
    "    temp_df=temp_df[temp_df['Revenue']<1000000]\n",
    "    return temp_df"
   ]
  },
  {
   "cell_type": "code",
   "execution_count": 9,
   "metadata": {},
   "outputs": [],
   "source": [
    "'''\n",
    "Feature engineering with Mileage Feture\n",
    "'''\n",
    "def mileage_avg(temp_df):\n",
    "    temp_df['Mileage']=150000 - temp_df['Mileage']\n",
    "    return temp_df"
   ]
  },
  {
   "cell_type": "code",
   "execution_count": 10,
   "metadata": {},
   "outputs": [],
   "source": [
    "'''\n",
    "Predicting cluster for each of the RFM Feature\n",
    "'''\n",
    "def predict_cluster(test_df,target_field):\n",
    "    km = KMeans(n_clusters=K)\n",
    "    km.fit(test_df[[target_field]])\n",
    "    test_df[target_field+'Cluster'] = km.predict(test_df[[target_field]])\n",
    "    display (test_df.head())\n",
    "    return test_df"
   ]
  },
  {
   "cell_type": "code",
   "execution_count": 11,
   "metadata": {},
   "outputs": [],
   "source": [
    "'''\n",
    "K-means assigns clusters as numbers but not in an ordered way. We can’t say cluster 0 is the worst and cluster 4 \n",
    "is the best. order_cluster() method does this for us\n",
    "'''\n",
    "def order_cluster(cluster_field_name,target_field_name,df,ascending):\n",
    "    new_cluster_field_name = 'new_' + cluster_field_name\n",
    "    df_new = df.groupby([cluster_field_name])[target_field_name].mean().reset_index()\n",
    "    df_new = df_new.sort_values(by=target_field_name,ascending=ascending).reset_index(drop=True)\n",
    "    df_new['index'] = df_new.index\n",
    "    df_final = pd.merge(df,df_new[[cluster_field_name,'index']], on=cluster_field_name)\n",
    "    df_final = df_final.drop([cluster_field_name],axis=1)\n",
    "    df_final = df_final.rename(columns={\"index\":cluster_field_name})\n",
    "    return df_final"
   ]
  },
  {
   "cell_type": "code",
   "execution_count": 12,
   "metadata": {},
   "outputs": [],
   "source": [
    "'''\n",
    "Function for getting statistical description for cluster\n",
    "'''\n",
    "def stat_desc(df,cluster_field,target_field):\n",
    "    tx_user = pd.DataFrame(df.groupby([cluster_field])[target_field].count()).reset_index()\n",
    "    tx_user.columns = [cluster_field,'count']\n",
    "    tx_user['mean'] = pd.DataFrame(df.groupby([cluster_field])[target_field].mean())\n",
    "    tx_user['std'] = pd.DataFrame(df.groupby([cluster_field])[target_field].std())\n",
    "    tx_user['min'] = pd.DataFrame(df.groupby([cluster_field])[target_field].min())\n",
    "    tx_user['25%'] = pd.DataFrame(df.groupby([cluster_field])[target_field].quantile(q=0.25))\n",
    "    tx_user['50%'] = pd.DataFrame(df.groupby([cluster_field])[target_field].quantile(q=0.5))\n",
    "    tx_user['75%'] = pd.DataFrame(df.groupby([cluster_field])[target_field].quantile(q=0.75))\n",
    "    tx_user['max'] = pd.DataFrame(df.groupby([cluster_field])[target_field].max())\n",
    "    display (tx_user)"
   ]
  },
  {
   "cell_type": "code",
   "execution_count": 13,
   "metadata": {},
   "outputs": [],
   "source": [
    "'''\n",
    "To treat right/positive skewness of the data, applying log transformation method for Frequency and Revenue columns\n",
    "'''\n",
    "def log_transform(model_df):    \n",
    "    model_df['Frequency'] = np.log(model_df['Frequency'])\n",
    "    model_df['Revenue'] = np.log(model_df['Revenue'] + 1)\n",
    "    return model_df"
   ]
  },
  {
   "cell_type": "code",
   "execution_count": 14,
   "metadata": {},
   "outputs": [],
   "source": [
    "'''\n",
    "Applying OHE to categorical fields\n",
    "'''\n",
    "def OHE(model_df):\n",
    "    model_df = pd.get_dummies(model_df,columns=['District','Model'],drop_first=False)\n",
    "    return model_df"
   ]
  },
  {
   "cell_type": "markdown",
   "metadata": {},
   "source": [
    "The feature hashing scheme is another useful feature engineering scheme for dealing with large scale categorical features. In this scheme, a hash function is typically used with the number of encoded features pre-set (as a vector of pre-defined length) such that the hashed values of the features are used as indices in this pre-defined vector and values are updated accordingly. Since a hash function maps a large number of values into a small finite set of values, multiple different values might create the same hash which is termed as collisions. Typically, a signed hash function is used so that the sign of the value obtained from the hash is used as the sign of the value which is stored in the final feature vector at the appropriate index. This should ensure lesser collisions and lesser accumulation of error due to collisions.\n",
    "\n",
    "Thus even if we have over 1000 distinct categories in a feature and we set b=10 as the final feature vector size, the output feature set will still have only 10 features as compared to 1000 binary features if we used a one-hot encoding scheme."
   ]
  },
  {
   "cell_type": "code",
   "execution_count": 15,
   "metadata": {},
   "outputs": [],
   "source": [
    "'''\n",
    "Applying Feature Hashing Scheme to categorical fields\n",
    "'''\n",
    "def hash_feature(model_df):\n",
    "    fh1 = FeatureHasher(n_features=10, input_type='string')\n",
    "    fh2 = FeatureHasher(n_features=10, input_type='string')\n",
    "    hashed_features1 = fh1.fit_transform(model_df['District'])\n",
    "    hashed_features2 = fh2.fit_transform(model_df['Model'])\n",
    "    hashed_features1 = pd.DataFrame(hashed_features1.toarray())\n",
    "    hashed_features2 = pd.DataFrame(hashed_features2.toarray())\n",
    "    model_df = pd.merge(model_df,hashed_features1,left_index=True,right_index=True)\n",
    "    model_df = pd.merge(model_df,hashed_features2,left_index=True,right_index=True)\n",
    "    model_df.drop(['District','Model'],axis=1,inplace=True)\n",
    "    return model_df"
   ]
  },
  {
   "cell_type": "code",
   "execution_count": 16,
   "metadata": {},
   "outputs": [],
   "source": [
    "'''\n",
    "Splitting data into X and Y\n",
    "'''\n",
    "def split_data(model_df):\n",
    "    X = model_df.drop(['Customer No.','Revenue'],axis=1)\n",
    "    y = model_df['Revenue']\n",
    "    return (X,y)"
   ]
  },
  {
   "cell_type": "code",
   "execution_count": 17,
   "metadata": {},
   "outputs": [],
   "source": [
    "'''\n",
    "Fitting Random Forest Regressor Model\n",
    "'''\n",
    "def fit_data(X_train,y_train,model):\n",
    "    model.fit(X_train,y_train)\n",
    "    print ('Accuracy of the Model is = ',model.score(X_train,y_train))"
   ]
  },
  {
   "cell_type": "code",
   "execution_count": 18,
   "metadata": {},
   "outputs": [],
   "source": [
    "'''\n",
    "Predicting target variable using fitted model\n",
    "'''\n",
    "def predict_data(X_test,y_test,model):\n",
    "    pred = model.predict(X_test)\n",
    "    print ('Root Mean Square Error for the model is within plus/minus of ',rmse(pred,y_test))"
   ]
  },
  {
   "cell_type": "code",
   "execution_count": null,
   "metadata": {},
   "outputs": [],
   "source": []
  },
  {
   "cell_type": "markdown",
   "metadata": {},
   "source": [
    "# Loading dataset with required fields"
   ]
  },
  {
   "cell_type": "code",
   "execution_count": 19,
   "metadata": {},
   "outputs": [
    {
     "data": {
      "text/html": [
       "<div>\n",
       "<style scoped>\n",
       "    .dataframe tbody tr th:only-of-type {\n",
       "        vertical-align: middle;\n",
       "    }\n",
       "\n",
       "    .dataframe tbody tr th {\n",
       "        vertical-align: top;\n",
       "    }\n",
       "\n",
       "    .dataframe thead th {\n",
       "        text-align: right;\n",
       "    }\n",
       "</style>\n",
       "<table border=\"1\" class=\"dataframe\">\n",
       "  <thead>\n",
       "    <tr style=\"text-align: right;\">\n",
       "      <th></th>\n",
       "      <th>Customer No.</th>\n",
       "      <th>District</th>\n",
       "      <th>Model</th>\n",
       "      <th>JobCard Date</th>\n",
       "      <th>KMs Reading</th>\n",
       "      <th>Order Type</th>\n",
       "      <th>Total Amt Wtd Tax.</th>\n",
       "    </tr>\n",
       "  </thead>\n",
       "  <tbody>\n",
       "    <tr>\n",
       "      <td>0</td>\n",
       "      <td>67849</td>\n",
       "      <td>Maharashtra</td>\n",
       "      <td>SPARK</td>\n",
       "      <td>2014-12-13</td>\n",
       "      <td>49317</td>\n",
       "      <td>Paid Service</td>\n",
       "      <td>4051.95</td>\n",
       "    </tr>\n",
       "    <tr>\n",
       "      <td>1</td>\n",
       "      <td>84419</td>\n",
       "      <td>Maharashtra</td>\n",
       "      <td>INDICA</td>\n",
       "      <td>2015-01-02</td>\n",
       "      <td>78584</td>\n",
       "      <td>SMC Value Package</td>\n",
       "      <td>1001.29</td>\n",
       "    </tr>\n",
       "    <tr>\n",
       "      <td>2</td>\n",
       "      <td>81055</td>\n",
       "      <td>Maharashtra</td>\n",
       "      <td>ZEN</td>\n",
       "      <td>2015-01-02</td>\n",
       "      <td>33985</td>\n",
       "      <td>Running Repairs</td>\n",
       "      <td>233.14</td>\n",
       "    </tr>\n",
       "    <tr>\n",
       "      <td>3</td>\n",
       "      <td>84419</td>\n",
       "      <td>Maharashtra</td>\n",
       "      <td>INDICA</td>\n",
       "      <td>2015-01-03</td>\n",
       "      <td>78584</td>\n",
       "      <td>SMC Redemption</td>\n",
       "      <td>0.00</td>\n",
       "    </tr>\n",
       "    <tr>\n",
       "      <td>4</td>\n",
       "      <td>18980</td>\n",
       "      <td>Maharashtra</td>\n",
       "      <td>SANTRO XING</td>\n",
       "      <td>2015-01-02</td>\n",
       "      <td>50057</td>\n",
       "      <td>Paid Service</td>\n",
       "      <td>2747.12</td>\n",
       "    </tr>\n",
       "  </tbody>\n",
       "</table>\n",
       "</div>"
      ],
      "text/plain": [
       "  Customer No.     District        Model JobCard Date  KMs Reading  \\\n",
       "0        67849  Maharashtra        SPARK   2014-12-13        49317   \n",
       "1        84419  Maharashtra       INDICA   2015-01-02        78584   \n",
       "2        81055  Maharashtra          ZEN   2015-01-02        33985   \n",
       "3        84419  Maharashtra       INDICA   2015-01-03        78584   \n",
       "4        18980  Maharashtra  SANTRO XING   2015-01-02        50057   \n",
       "\n",
       "          Order Type  Total Amt Wtd Tax.  \n",
       "0       Paid Service             4051.95  \n",
       "1  SMC Value Package             1001.29  \n",
       "2    Running Repairs              233.14  \n",
       "3     SMC Redemption                0.00  \n",
       "4       Paid Service             2747.12  "
      ]
     },
     "execution_count": 19,
     "metadata": {},
     "output_type": "execute_result"
    }
   ],
   "source": [
    "'''\n",
    "Loading the dataset with required fields from Invoice file dataset\n",
    "'''\n",
    "invoice_data = final_inv_data[['Customer No.','District','Model','JobCard Date',\n",
    "                               'KMs Reading','Order Type','Total Amt Wtd Tax.']].copy()\n",
    "invoice_data['Customer No.'] = invoice_data['Customer No.'].astype(str)\n",
    "invoice_data['District'] = invoice_data['District'].astype(str)\n",
    "invoice_data['Model'] = invoice_data['Model'].astype(str)\n",
    "invoice_data['JobCard Date'] = pd.to_datetime(invoice_data['JobCard Date'])\n",
    "invoice_data.head()"
   ]
  },
  {
   "cell_type": "code",
   "execution_count": 20,
   "metadata": {},
   "outputs": [],
   "source": [
    "'''\n",
    "Removing data related to Accidents as that counts to adhoc type of expences which are really difficult to predict\n",
    "since lot of it's aspect depend on driver's atrribute, road attributes for which we do not have data to accomodate\n",
    "such features.\n",
    "'''\n",
    "final_invoice_data = invoice_data[invoice_data['Order Type']!='Accidental']"
   ]
  },
  {
   "cell_type": "code",
   "execution_count": 21,
   "metadata": {},
   "outputs": [
    {
     "name": "stderr",
     "output_type": "stream",
     "text": [
      "/Users/pritigirishvankudre/opt/anaconda3/lib/python3.7/site-packages/ipykernel_launcher.py:4: FutureWarning: Comparing Series of datetimes with 'datetime.date'.  Currently, the\n",
      "'datetime.date' is coerced to a datetime. In the future pandas will\n",
      "not coerce, and a TypeError will be raised. To retain the current\n",
      "behavior, convert the 'datetime.date' to a datetime with\n",
      "'pd.Timestamp'.\n",
      "  after removing the cwd from sys.path.\n",
      "/Users/pritigirishvankudre/opt/anaconda3/lib/python3.7/site-packages/ipykernel_launcher.py:5: FutureWarning: Comparing Series of datetimes with 'datetime.date'.  Currently, the\n",
      "'datetime.date' is coerced to a datetime. In the future pandas will\n",
      "not coerce, and a TypeError will be raised. To retain the current\n",
      "behavior, convert the 'datetime.date' to a datetime with\n",
      "'pd.Timestamp'.\n",
      "  \"\"\"\n",
      "/Users/pritigirishvankudre/opt/anaconda3/lib/python3.7/site-packages/ipykernel_launcher.py:6: FutureWarning: Comparing Series of datetimes with 'datetime.date'.  Currently, the\n",
      "'datetime.date' is coerced to a datetime. In the future pandas will\n",
      "not coerce, and a TypeError will be raised. To retain the current\n",
      "behavior, convert the 'datetime.date' to a datetime with\n",
      "'pd.Timestamp'.\n",
      "  \n",
      "/Users/pritigirishvankudre/opt/anaconda3/lib/python3.7/site-packages/ipykernel_launcher.py:7: FutureWarning: Comparing Series of datetimes with 'datetime.date'.  Currently, the\n",
      "'datetime.date' is coerced to a datetime. In the future pandas will\n",
      "not coerce, and a TypeError will be raised. To retain the current\n",
      "behavior, convert the 'datetime.date' to a datetime with\n",
      "'pd.Timestamp'.\n",
      "  import sys\n"
     ]
    }
   ],
   "source": [
    "'''\n",
    "Dividing dataset based on period of first 4 years (2012-2015) as training and last 1 year (2016) as test (unseen) data\n",
    "'''\n",
    "data_4yr = final_invoice_data[(final_invoice_data['JobCard Date'] > date(2012,1,1)) & \n",
    "                              (final_invoice_data['JobCard Date'] <= date(2015,12,31))].reset_index(drop=True)\n",
    "data_1yr = final_invoice_data[(final_invoice_data['JobCard Date'] > date(2016,1,1)) & \n",
    "                              (final_invoice_data['JobCard Date'] <= date(2016,12,31))].reset_index(drop=True)"
   ]
  },
  {
   "cell_type": "code",
   "execution_count": null,
   "metadata": {},
   "outputs": [],
   "source": []
  },
  {
   "cell_type": "markdown",
   "metadata": {},
   "source": [
    "# Train the model for data between 2012 to 2015"
   ]
  },
  {
   "cell_type": "code",
   "execution_count": 22,
   "metadata": {},
   "outputs": [],
   "source": [
    "'''\n",
    "Creating attributes of Recency, Frequency and Monetary value\n",
    "'''\n",
    "temp_df = RFM_feature(data_4yr)"
   ]
  },
  {
   "cell_type": "code",
   "execution_count": 23,
   "metadata": {},
   "outputs": [
    {
     "name": "stdout",
     "output_type": "stream",
     "text": [
      "Total outliers in Column Recency  = 0\n",
      "Percentatge of outliers in Column Recency  = 0.0\n",
      "** ** ** ** ** ** ** ** ** ** ** ** ** ** ** ** **\n",
      "Total outliers in Column Frequency  = 16396\n",
      "Percentatge of outliers in Column Frequency  = 11.93\n",
      "** ** ** ** ** ** ** ** ** ** ** ** ** ** ** ** **\n",
      "Total outliers in Column Mileage  = 6548\n",
      "Percentatge of outliers in Column Mileage  = 4.77\n",
      "** ** ** ** ** ** ** ** ** ** ** ** ** ** ** ** **\n",
      "Total outliers in Column Revenue  = 13425\n",
      "Percentatge of outliers in Column Revenue  = 9.77\n",
      "** ** ** ** ** ** ** ** ** ** ** ** ** ** ** ** **\n"
     ]
    }
   ],
   "source": [
    "'''\n",
    "Finding outliers\n",
    "'''\n",
    "for i in temp_df[['Recency','Frequency','Mileage','Revenue']]:\n",
    "    outliers = get_outliers(temp_df[i])\n",
    "    print (\"Total outliers in Column\",temp_df[i].name,\" =\",len(outliers))\n",
    "    print (\"Percentatge of outliers in Column\",temp_df[i].name,\" =\",\n",
    "           round(((len(outliers)/temp_df.shape[0])*100),2))\n",
    "    print (\"** ** ** ** ** ** ** ** ** ** ** ** ** ** ** ** **\")"
   ]
  },
  {
   "cell_type": "code",
   "execution_count": 24,
   "metadata": {},
   "outputs": [
    {
     "name": "stdout",
     "output_type": "stream",
     "text": [
      "Boxplot visualization for Recency\n"
     ]
    },
    {
     "data": {
      "image/png": "[encoded data removed]",
      "text/plain": [
       "<Figure size 432x288 with 1 Axes>"
      ]
     },
     "metadata": {
      "needs_background": "light"
     },
     "output_type": "display_data"
    },
    {
     "name": "stdout",
     "output_type": "stream",
     "text": [
      "Distribution plot visualization for Recency\n"
     ]
    },
    {
     "data": {
      "image/png": "[encoded data removed]",
      "text/plain": [
       "<Figure size 432x288 with 1 Axes>"
      ]
     },
     "metadata": {
      "needs_background": "light"
     },
     "output_type": "display_data"
    },
    {
     "name": "stdout",
     "output_type": "stream",
     "text": [
      "Mean for  Recency  = 421.1494334019898\n",
      "Median for  Recency  = 344.0\n",
      "** ** ** ** ** ** ** ** ** ** ** ** ** ** ** ** **\n",
      "Boxplot visualization for Frequency\n"
     ]
    },
    {
     "data": {
      "image/png": "[encoded data removed]",
      "text/plain": [
       "<Figure size 432x288 with 1 Axes>"
      ]
     },
     "metadata": {
      "needs_background": "light"
     },
     "output_type": "display_data"
    },
    {
     "name": "stdout",
     "output_type": "stream",
     "text": [
      "Distribution plot visualization for Frequency\n"
     ]
    },
    {
     "data": {
      "image/png": "[encoded data removed]",
      "text/plain": [
       "<Figure size 432x288 with 1 Axes>"
      ]
     },
     "metadata": {
      "needs_background": "light"
     },
     "output_type": "display_data"
    },
    {
     "name": "stdout",
     "output_type": "stream",
     "text": [
      "Mean for  Frequency  = 1.9488933689473722\n",
      "Median for  Frequency  = 1.0\n",
      "** ** ** ** ** ** ** ** ** ** ** ** ** ** ** ** **\n",
      "Boxplot visualization for Mileage\n"
     ]
    },
    {
     "data": {
      "image/png": "[encoded data removed]",
      "text/plain": [
       "<Figure size 432x288 with 1 Axes>"
      ]
     },
     "metadata": {
      "needs_background": "light"
     },
     "output_type": "display_data"
    },
    {
     "name": "stdout",
     "output_type": "stream",
     "text": [
      "Distribution plot visualization for Mileage\n"
     ]
    },
    {
     "data": {
      "image/png": "[encoded data removed]",
      "text/plain": [
       "<Figure size 432x288 with 1 Axes>"
      ]
     },
     "metadata": {
      "needs_background": "light"
     },
     "output_type": "display_data"
    },
    {
     "name": "stdout",
     "output_type": "stream",
     "text": [
      "Mean for  Mileage  = 75430.03224186493\n",
      "Median for  Mileage  = 58349.0\n",
      "** ** ** ** ** ** ** ** ** ** ** ** ** ** ** ** **\n",
      "Boxplot visualization for Revenue\n"
     ]
    },
    {
     "data": {
      "image/png": "[encoded data removed]",
      "text/plain": [
       "<Figure size 432x288 with 1 Axes>"
      ]
     },
     "metadata": {
      "needs_background": "light"
     },
     "output_type": "display_data"
    },
    {
     "name": "stdout",
     "output_type": "stream",
     "text": [
      "Distribution plot visualization for Revenue\n"
     ]
    },
    {
     "data": {
      "image/png": "[encoded data removed]",
      "text/plain": [
       "<Figure size 432x288 with 1 Axes>"
      ]
     },
     "metadata": {
      "needs_background": "light"
     },
     "output_type": "display_data"
    },
    {
     "name": "stdout",
     "output_type": "stream",
     "text": [
      "Mean for  Revenue  = 6338.944625288319\n",
      "Median for  Revenue  = 2382.14\n",
      "** ** ** ** ** ** ** ** ** ** ** ** ** ** ** ** **\n"
     ]
    }
   ],
   "source": [
    "'''\n",
    "Visualization of outliers with boxplot and distribution plot and understanding the description\n",
    "'''\n",
    "\n",
    "# For Recency\n",
    "print ('Boxplot visualization for Recency')\n",
    "box_plot(temp_df,'Recency')\n",
    "print ('Distribution plot visualization for Recency')\n",
    "dist_plot(temp_df,'Recency')\n",
    "print (\"** ** ** ** ** ** ** ** ** ** ** ** ** ** ** ** **\")\n",
    "\n",
    "# For Frequency\n",
    "print ('Boxplot visualization for Frequency')\n",
    "box_plot(temp_df,'Frequency')\n",
    "print ('Distribution plot visualization for Frequency')\n",
    "dist_plot(temp_df,'Frequency')\n",
    "print (\"** ** ** ** ** ** ** ** ** ** ** ** ** ** ** ** **\")\n",
    "\n",
    "# For Mileage\n",
    "print ('Boxplot visualization for Mileage')\n",
    "box_plot(temp_df,'Mileage')\n",
    "print ('Distribution plot visualization for Mileage')\n",
    "dist_plot(temp_df,'Mileage')\n",
    "print (\"** ** ** ** ** ** ** ** ** ** ** ** ** ** ** ** **\")\n",
    "\n",
    "# For Revenue\n",
    "print ('Boxplot visualization for Revenue')\n",
    "box_plot(temp_df,'Revenue')\n",
    "print ('Distribution plot visualization for Revenue')\n",
    "dist_plot(temp_df,'Revenue')\n",
    "print (\"** ** ** ** ** ** ** ** ** ** ** ** ** ** ** ** **\")"
   ]
  },
  {
   "cell_type": "code",
   "execution_count": 25,
   "metadata": {},
   "outputs": [],
   "source": [
    "'''\n",
    "Treating for extreme outliers\n",
    "'''\n",
    "temp_df = outliers_treat(temp_df)"
   ]
  },
  {
   "cell_type": "code",
   "execution_count": 26,
   "metadata": {
    "scrolled": false
   },
   "outputs": [
    {
     "name": "stdout",
     "output_type": "stream",
     "text": [
      "Boxplot visualization for Recency\n"
     ]
    },
    {
     "data": {
      "image/png": "[encoded data removed]",
      "text/plain": [
       "<Figure size 432x288 with 1 Axes>"
      ]
     },
     "metadata": {
      "needs_background": "light"
     },
     "output_type": "display_data"
    },
    {
     "name": "stdout",
     "output_type": "stream",
     "text": [
      "Distribution plot visualization for Recency\n"
     ]
    },
    {
     "data": {
      "image/png": "[encoded data removed]",
      "text/plain": [
       "<Figure size 432x288 with 1 Axes>"
      ]
     },
     "metadata": {
      "needs_background": "light"
     },
     "output_type": "display_data"
    },
    {
     "name": "stdout",
     "output_type": "stream",
     "text": [
      "Mean for  Recency  = 426.4189844849686\n",
      "Median for  Recency  = 355.0\n",
      "** ** ** ** ** ** ** ** ** ** ** ** ** ** ** ** **\n",
      "Boxplot visualization for Frequency\n"
     ]
    },
    {
     "data": {
      "image/png": "[encoded data removed]",
      "text/plain": [
       "<Figure size 432x288 with 1 Axes>"
      ]
     },
     "metadata": {
      "needs_background": "light"
     },
     "output_type": "display_data"
    },
    {
     "name": "stdout",
     "output_type": "stream",
     "text": [
      "Distribution plot visualization for Frequency\n"
     ]
    },
    {
     "data": {
      "image/png": "[encoded data removed]",
      "text/plain": [
       "<Figure size 432x288 with 1 Axes>"
      ]
     },
     "metadata": {
      "needs_background": "light"
     },
     "output_type": "display_data"
    },
    {
     "name": "stdout",
     "output_type": "stream",
     "text": [
      "Mean for  Frequency  = 1.8906791856377834\n",
      "Median for  Frequency  = 1.0\n",
      "** ** ** ** ** ** ** ** ** ** ** ** ** ** ** ** **\n",
      "Boxplot visualization for Mileage\n"
     ]
    },
    {
     "data": {
      "image/png": "[encoded data removed]",
      "text/plain": [
       "<Figure size 432x288 with 1 Axes>"
      ]
     },
     "metadata": {
      "needs_background": "light"
     },
     "output_type": "display_data"
    },
    {
     "name": "stdout",
     "output_type": "stream",
     "text": [
      "Distribution plot visualization for Mileage\n"
     ]
    },
    {
     "data": {
      "image/png": "[encoded data removed]",
      "text/plain": [
       "<Figure size 432x288 with 1 Axes>"
      ]
     },
     "metadata": {
      "needs_background": "light"
     },
     "output_type": "display_data"
    },
    {
     "name": "stdout",
     "output_type": "stream",
     "text": [
      "Mean for  Mileage  = 58793.79330329409\n",
      "Median for  Mileage  = 54467.0\n",
      "** ** ** ** ** ** ** ** ** ** ** ** ** ** ** ** **\n",
      "Boxplot visualization for Revenue\n"
     ]
    },
    {
     "data": {
      "image/png": "[encoded data removed]",
      "text/plain": [
       "<Figure size 432x288 with 1 Axes>"
      ]
     },
     "metadata": {
      "needs_background": "light"
     },
     "output_type": "display_data"
    },
    {
     "name": "stdout",
     "output_type": "stream",
     "text": [
      "Distribution plot visualization for Revenue\n"
     ]
    },
    {
     "data": {
      "image/png": "[encoded data removed]",
      "text/plain": [
       "<Figure size 432x288 with 1 Axes>"
      ]
     },
     "metadata": {
      "needs_background": "light"
     },
     "output_type": "display_data"
    },
    {
     "name": "stdout",
     "output_type": "stream",
     "text": [
      "Mean for  Revenue  = 5859.620125347087\n",
      "Median for  Revenue  = 2364.55\n",
      "** ** ** ** ** ** ** ** ** ** ** ** ** ** ** ** **\n"
     ]
    }
   ],
   "source": [
    "'''\n",
    "Visualization of outliers with boxplot and distribution plot and understanding the description\n",
    "post outlier treatment\n",
    "'''\n",
    "\n",
    "# For Recency\n",
    "print ('Boxplot visualization for Recency')\n",
    "box_plot(temp_df,'Recency')\n",
    "print ('Distribution plot visualization for Recency')\n",
    "dist_plot(temp_df,'Recency')\n",
    "print (\"** ** ** ** ** ** ** ** ** ** ** ** ** ** ** ** **\")\n",
    "\n",
    "# For Frequency\n",
    "print ('Boxplot visualization for Frequency')\n",
    "box_plot(temp_df,'Frequency')\n",
    "print ('Distribution plot visualization for Frequency')\n",
    "dist_plot(temp_df,'Frequency')\n",
    "print (\"** ** ** ** ** ** ** ** ** ** ** ** ** ** ** ** **\")\n",
    "\n",
    "# For Mileage\n",
    "print ('Boxplot visualization for Mileage')\n",
    "box_plot(temp_df,'Mileage')\n",
    "print ('Distribution plot visualization for Mileage')\n",
    "dist_plot(temp_df,'Mileage')\n",
    "print (\"** ** ** ** ** ** ** ** ** ** ** ** ** ** ** ** **\")\n",
    "\n",
    "# For Revenue\n",
    "print ('Boxplot visualization for Revenue')\n",
    "box_plot(temp_df,'Revenue')\n",
    "print ('Distribution plot visualization for Revenue')\n",
    "dist_plot(temp_df,'Revenue')\n",
    "print (\"** ** ** ** ** ** ** ** ** ** ** ** ** ** ** ** **\")"
   ]
  },
  {
   "cell_type": "code",
   "execution_count": 27,
   "metadata": {},
   "outputs": [],
   "source": [
    "'''\n",
    "Feature engineering with Mileage Feture\n",
    "'''\n",
    "temp_df = mileage_avg(temp_df)"
   ]
  },
  {
   "cell_type": "code",
   "execution_count": 28,
   "metadata": {},
   "outputs": [
    {
     "name": "stdout",
     "output_type": "stream",
     "text": [
      "m = 127167\n",
      "n = 7\n"
     ]
    }
   ],
   "source": [
    "'''\n",
    "Applying K Means Cluster to find out number of clusters \n",
    "So for convenience let’s start by choosing number of iterations as 100.\n",
    "'''\n",
    "m=temp_df.shape[0] #number of training examples.\n",
    "print (\"m =\",m)\n",
    "n=temp_df.shape[1] #number of features.\n",
    "print (\"n =\",n)\n",
    "n_iter=100"
   ]
  },
  {
   "cell_type": "code",
   "execution_count": 29,
   "metadata": {},
   "outputs": [
    {
     "data": {
      "image/png": "[encoded data removed]",
      "text/plain": [
       "<Figure size 432x288 with 1 Axes>"
      ]
     },
     "metadata": {
      "needs_background": "light"
     },
     "output_type": "display_data"
    }
   ],
   "source": [
    "'''\n",
    "Elbow method to decide on optimal number of clusters\n",
    "'''\n",
    "\n",
    "Sum_of_squared_distances = []\n",
    "K = range(1,6)\n",
    "for k in K:\n",
    "    km = KMeans(n_clusters=k, max_iter=n_iter)\n",
    "    km = km.fit(pd.DataFrame(temp_df['Recency']))\n",
    "    Sum_of_squared_distances.append(km.inertia_)\n",
    "    \n",
    "plt.plot(K, Sum_of_squared_distances, 'bx-')\n",
    "plt.xlabel('k')\n",
    "plt.ylabel('Sum_of_squared_distances')\n",
    "plt.title('Elbow Method For Optimal k')\n",
    "plt.show()"
   ]
  },
  {
   "cell_type": "code",
   "execution_count": 30,
   "metadata": {},
   "outputs": [],
   "source": [
    "'''\n",
    "Deciding on optimum value of K\n",
    "'''\n",
    "K = 4"
   ]
  },
  {
   "cell_type": "code",
   "execution_count": 31,
   "metadata": {},
   "outputs": [
    {
     "data": {
      "text/html": [
       "<div>\n",
       "<style scoped>\n",
       "    .dataframe tbody tr th:only-of-type {\n",
       "        vertical-align: middle;\n",
       "    }\n",
       "\n",
       "    .dataframe tbody tr th {\n",
       "        vertical-align: top;\n",
       "    }\n",
       "\n",
       "    .dataframe thead th {\n",
       "        text-align: right;\n",
       "    }\n",
       "</style>\n",
       "<table border=\"1\" class=\"dataframe\">\n",
       "  <thead>\n",
       "    <tr style=\"text-align: right;\">\n",
       "      <th></th>\n",
       "      <th>Customer No.</th>\n",
       "      <th>District</th>\n",
       "      <th>Model</th>\n",
       "      <th>Recency</th>\n",
       "      <th>Frequency</th>\n",
       "      <th>Mileage</th>\n",
       "      <th>Revenue</th>\n",
       "      <th>RecencyCluster</th>\n",
       "    </tr>\n",
       "  </thead>\n",
       "  <tbody>\n",
       "    <tr>\n",
       "      <td>0</td>\n",
       "      <td>1</td>\n",
       "      <td>Maharashtra</td>\n",
       "      <td>KIZASHI</td>\n",
       "      <td>1369</td>\n",
       "      <td>1</td>\n",
       "      <td>148788</td>\n",
       "      <td>0.00</td>\n",
       "      <td>2</td>\n",
       "    </tr>\n",
       "    <tr>\n",
       "      <td>1</td>\n",
       "      <td>1</td>\n",
       "      <td>Maharashtra</td>\n",
       "      <td>OMNI</td>\n",
       "      <td>1019</td>\n",
       "      <td>3</td>\n",
       "      <td>110025</td>\n",
       "      <td>0.00</td>\n",
       "      <td>2</td>\n",
       "    </tr>\n",
       "    <tr>\n",
       "      <td>2</td>\n",
       "      <td>10</td>\n",
       "      <td>Maharashtra</td>\n",
       "      <td>OPTRA</td>\n",
       "      <td>927</td>\n",
       "      <td>5</td>\n",
       "      <td>27176</td>\n",
       "      <td>11105.56</td>\n",
       "      <td>2</td>\n",
       "    </tr>\n",
       "    <tr>\n",
       "      <td>3</td>\n",
       "      <td>100</td>\n",
       "      <td>Maharashtra</td>\n",
       "      <td>CITY</td>\n",
       "      <td>1207</td>\n",
       "      <td>1</td>\n",
       "      <td>111424</td>\n",
       "      <td>6632.67</td>\n",
       "      <td>2</td>\n",
       "    </tr>\n",
       "    <tr>\n",
       "      <td>4</td>\n",
       "      <td>1000</td>\n",
       "      <td>Maharashtra</td>\n",
       "      <td>ALTO</td>\n",
       "      <td>443</td>\n",
       "      <td>6</td>\n",
       "      <td>130904</td>\n",
       "      <td>8813.44</td>\n",
       "      <td>3</td>\n",
       "    </tr>\n",
       "  </tbody>\n",
       "</table>\n",
       "</div>"
      ],
      "text/plain": [
       "  Customer No.     District    Model  Recency  Frequency  Mileage   Revenue  \\\n",
       "0            1  Maharashtra  KIZASHI     1369          1   148788      0.00   \n",
       "1            1  Maharashtra     OMNI     1019          3   110025      0.00   \n",
       "2           10  Maharashtra    OPTRA      927          5    27176  11105.56   \n",
       "3          100  Maharashtra     CITY     1207          1   111424   6632.67   \n",
       "4         1000  Maharashtra     ALTO      443          6   130904   8813.44   \n",
       "\n",
       "   RecencyCluster  \n",
       "0               2  \n",
       "1               2  \n",
       "2               2  \n",
       "3               2  \n",
       "4               3  "
      ]
     },
     "metadata": {},
     "output_type": "display_data"
    },
    {
     "data": {
      "text/html": [
       "<div>\n",
       "<style scoped>\n",
       "    .dataframe tbody tr th:only-of-type {\n",
       "        vertical-align: middle;\n",
       "    }\n",
       "\n",
       "    .dataframe tbody tr th {\n",
       "        vertical-align: top;\n",
       "    }\n",
       "\n",
       "    .dataframe thead th {\n",
       "        text-align: right;\n",
       "    }\n",
       "</style>\n",
       "<table border=\"1\" class=\"dataframe\">\n",
       "  <thead>\n",
       "    <tr style=\"text-align: right;\">\n",
       "      <th></th>\n",
       "      <th>RecencyCluster</th>\n",
       "      <th>count</th>\n",
       "      <th>mean</th>\n",
       "      <th>std</th>\n",
       "      <th>min</th>\n",
       "      <th>25%</th>\n",
       "      <th>50%</th>\n",
       "      <th>75%</th>\n",
       "      <th>max</th>\n",
       "    </tr>\n",
       "  </thead>\n",
       "  <tbody>\n",
       "    <tr>\n",
       "      <td>0</td>\n",
       "      <td>0</td>\n",
       "      <td>14664</td>\n",
       "      <td>1057.897368</td>\n",
       "      <td>135.159992</td>\n",
       "      <td>875</td>\n",
       "      <td>940.0</td>\n",
       "      <td>1033.0</td>\n",
       "      <td>1154.0</td>\n",
       "      <td>1369</td>\n",
       "    </tr>\n",
       "    <tr>\n",
       "      <td>1</td>\n",
       "      <td>1</td>\n",
       "      <td>31878</td>\n",
       "      <td>690.477037</td>\n",
       "      <td>94.029385</td>\n",
       "      <td>528</td>\n",
       "      <td>614.0</td>\n",
       "      <td>686.0</td>\n",
       "      <td>765.0</td>\n",
       "      <td>874</td>\n",
       "    </tr>\n",
       "    <tr>\n",
       "      <td>2</td>\n",
       "      <td>2</td>\n",
       "      <td>32789</td>\n",
       "      <td>365.352893</td>\n",
       "      <td>85.135360</td>\n",
       "      <td>232</td>\n",
       "      <td>290.0</td>\n",
       "      <td>360.0</td>\n",
       "      <td>436.0</td>\n",
       "      <td>527</td>\n",
       "    </tr>\n",
       "    <tr>\n",
       "      <td>3</td>\n",
       "      <td>3</td>\n",
       "      <td>47836</td>\n",
       "      <td>98.729681</td>\n",
       "      <td>68.613177</td>\n",
       "      <td>0</td>\n",
       "      <td>36.0</td>\n",
       "      <td>92.0</td>\n",
       "      <td>158.0</td>\n",
       "      <td>231</td>\n",
       "    </tr>\n",
       "  </tbody>\n",
       "</table>\n",
       "</div>"
      ],
      "text/plain": [
       "   RecencyCluster  count         mean         std  min    25%     50%     75%  \\\n",
       "0               0  14664  1057.897368  135.159992  875  940.0  1033.0  1154.0   \n",
       "1               1  31878   690.477037   94.029385  528  614.0   686.0   765.0   \n",
       "2               2  32789   365.352893   85.135360  232  290.0   360.0   436.0   \n",
       "3               3  47836    98.729681   68.613177    0   36.0    92.0   158.0   \n",
       "\n",
       "    max  \n",
       "0  1369  \n",
       "1   874  \n",
       "2   527  \n",
       "3   231  "
      ]
     },
     "metadata": {},
     "output_type": "display_data"
    }
   ],
   "source": [
    "'''\n",
    "Creating Recency Cluster\n",
    "'''\n",
    "temp_df = predict_cluster(temp_df,'Recency')\n",
    "temp_df = order_cluster('RecencyCluster','Recency',temp_df,False)\n",
    "stat_desc(temp_df,'RecencyCluster','Recency')"
   ]
  },
  {
   "cell_type": "code",
   "execution_count": 32,
   "metadata": {},
   "outputs": [
    {
     "data": {
      "text/html": [
       "<div>\n",
       "<style scoped>\n",
       "    .dataframe tbody tr th:only-of-type {\n",
       "        vertical-align: middle;\n",
       "    }\n",
       "\n",
       "    .dataframe tbody tr th {\n",
       "        vertical-align: top;\n",
       "    }\n",
       "\n",
       "    .dataframe thead th {\n",
       "        text-align: right;\n",
       "    }\n",
       "</style>\n",
       "<table border=\"1\" class=\"dataframe\">\n",
       "  <thead>\n",
       "    <tr style=\"text-align: right;\">\n",
       "      <th></th>\n",
       "      <th>Customer No.</th>\n",
       "      <th>District</th>\n",
       "      <th>Model</th>\n",
       "      <th>Recency</th>\n",
       "      <th>Frequency</th>\n",
       "      <th>Mileage</th>\n",
       "      <th>Revenue</th>\n",
       "      <th>RecencyCluster</th>\n",
       "      <th>FrequencyCluster</th>\n",
       "    </tr>\n",
       "  </thead>\n",
       "  <tbody>\n",
       "    <tr>\n",
       "      <td>0</td>\n",
       "      <td>1</td>\n",
       "      <td>Maharashtra</td>\n",
       "      <td>KIZASHI</td>\n",
       "      <td>1369</td>\n",
       "      <td>1</td>\n",
       "      <td>148788</td>\n",
       "      <td>0.00</td>\n",
       "      <td>0</td>\n",
       "      <td>0</td>\n",
       "    </tr>\n",
       "    <tr>\n",
       "      <td>1</td>\n",
       "      <td>1</td>\n",
       "      <td>Maharashtra</td>\n",
       "      <td>OMNI</td>\n",
       "      <td>1019</td>\n",
       "      <td>3</td>\n",
       "      <td>110025</td>\n",
       "      <td>0.00</td>\n",
       "      <td>0</td>\n",
       "      <td>2</td>\n",
       "    </tr>\n",
       "    <tr>\n",
       "      <td>2</td>\n",
       "      <td>10</td>\n",
       "      <td>Maharashtra</td>\n",
       "      <td>OPTRA</td>\n",
       "      <td>927</td>\n",
       "      <td>5</td>\n",
       "      <td>27176</td>\n",
       "      <td>11105.56</td>\n",
       "      <td>0</td>\n",
       "      <td>2</td>\n",
       "    </tr>\n",
       "    <tr>\n",
       "      <td>3</td>\n",
       "      <td>100</td>\n",
       "      <td>Maharashtra</td>\n",
       "      <td>CITY</td>\n",
       "      <td>1207</td>\n",
       "      <td>1</td>\n",
       "      <td>111424</td>\n",
       "      <td>6632.67</td>\n",
       "      <td>0</td>\n",
       "      <td>0</td>\n",
       "    </tr>\n",
       "    <tr>\n",
       "      <td>4</td>\n",
       "      <td>10002</td>\n",
       "      <td>Maharashtra</td>\n",
       "      <td>OPEL CORSA</td>\n",
       "      <td>1054</td>\n",
       "      <td>1</td>\n",
       "      <td>63831</td>\n",
       "      <td>1828.56</td>\n",
       "      <td>0</td>\n",
       "      <td>0</td>\n",
       "    </tr>\n",
       "  </tbody>\n",
       "</table>\n",
       "</div>"
      ],
      "text/plain": [
       "  Customer No.     District       Model  Recency  Frequency  Mileage  \\\n",
       "0            1  Maharashtra     KIZASHI     1369          1   148788   \n",
       "1            1  Maharashtra        OMNI     1019          3   110025   \n",
       "2           10  Maharashtra       OPTRA      927          5    27176   \n",
       "3          100  Maharashtra        CITY     1207          1   111424   \n",
       "4        10002  Maharashtra  OPEL CORSA     1054          1    63831   \n",
       "\n",
       "    Revenue  RecencyCluster  FrequencyCluster  \n",
       "0      0.00               0                 0  \n",
       "1      0.00               0                 2  \n",
       "2  11105.56               0                 2  \n",
       "3   6632.67               0                 0  \n",
       "4   1828.56               0                 0  "
      ]
     },
     "metadata": {},
     "output_type": "display_data"
    },
    {
     "data": {
      "text/html": [
       "<div>\n",
       "<style scoped>\n",
       "    .dataframe tbody tr th:only-of-type {\n",
       "        vertical-align: middle;\n",
       "    }\n",
       "\n",
       "    .dataframe tbody tr th {\n",
       "        vertical-align: top;\n",
       "    }\n",
       "\n",
       "    .dataframe thead th {\n",
       "        text-align: right;\n",
       "    }\n",
       "</style>\n",
       "<table border=\"1\" class=\"dataframe\">\n",
       "  <thead>\n",
       "    <tr style=\"text-align: right;\">\n",
       "      <th></th>\n",
       "      <th>FrequencyCluster</th>\n",
       "      <th>count</th>\n",
       "      <th>mean</th>\n",
       "      <th>std</th>\n",
       "      <th>min</th>\n",
       "      <th>25%</th>\n",
       "      <th>50%</th>\n",
       "      <th>75%</th>\n",
       "      <th>max</th>\n",
       "    </tr>\n",
       "  </thead>\n",
       "  <tbody>\n",
       "    <tr>\n",
       "      <td>0</td>\n",
       "      <td>0</td>\n",
       "      <td>101995</td>\n",
       "      <td>1.216481</td>\n",
       "      <td>0.411848</td>\n",
       "      <td>1</td>\n",
       "      <td>1.0</td>\n",
       "      <td>1.0</td>\n",
       "      <td>1.0</td>\n",
       "      <td>2</td>\n",
       "    </tr>\n",
       "    <tr>\n",
       "      <td>1</td>\n",
       "      <td>1</td>\n",
       "      <td>19674</td>\n",
       "      <td>3.643031</td>\n",
       "      <td>0.761833</td>\n",
       "      <td>3</td>\n",
       "      <td>3.0</td>\n",
       "      <td>3.0</td>\n",
       "      <td>4.0</td>\n",
       "      <td>5</td>\n",
       "    </tr>\n",
       "    <tr>\n",
       "      <td>2</td>\n",
       "      <td>2</td>\n",
       "      <td>5103</td>\n",
       "      <td>7.454439</td>\n",
       "      <td>1.635022</td>\n",
       "      <td>6</td>\n",
       "      <td>6.0</td>\n",
       "      <td>7.0</td>\n",
       "      <td>8.0</td>\n",
       "      <td>12</td>\n",
       "    </tr>\n",
       "    <tr>\n",
       "      <td>3</td>\n",
       "      <td>3</td>\n",
       "      <td>395</td>\n",
       "      <td>16.820253</td>\n",
       "      <td>6.870122</td>\n",
       "      <td>13</td>\n",
       "      <td>13.0</td>\n",
       "      <td>15.0</td>\n",
       "      <td>17.0</td>\n",
       "      <td>86</td>\n",
       "    </tr>\n",
       "  </tbody>\n",
       "</table>\n",
       "</div>"
      ],
      "text/plain": [
       "   FrequencyCluster   count       mean       std  min   25%   50%   75%  max\n",
       "0                 0  101995   1.216481  0.411848    1   1.0   1.0   1.0    2\n",
       "1                 1   19674   3.643031  0.761833    3   3.0   3.0   4.0    5\n",
       "2                 2    5103   7.454439  1.635022    6   6.0   7.0   8.0   12\n",
       "3                 3     395  16.820253  6.870122   13  13.0  15.0  17.0   86"
      ]
     },
     "metadata": {},
     "output_type": "display_data"
    }
   ],
   "source": [
    "'''\n",
    "Creating Frequency Cluster\n",
    "'''\n",
    "temp_df = predict_cluster(temp_df,'Frequency')\n",
    "temp_df = order_cluster('FrequencyCluster','Frequency',temp_df,True)\n",
    "stat_desc(temp_df,'FrequencyCluster','Frequency')"
   ]
  },
  {
   "cell_type": "code",
   "execution_count": 33,
   "metadata": {},
   "outputs": [
    {
     "data": {
      "text/html": [
       "<div>\n",
       "<style scoped>\n",
       "    .dataframe tbody tr th:only-of-type {\n",
       "        vertical-align: middle;\n",
       "    }\n",
       "\n",
       "    .dataframe tbody tr th {\n",
       "        vertical-align: top;\n",
       "    }\n",
       "\n",
       "    .dataframe thead th {\n",
       "        text-align: right;\n",
       "    }\n",
       "</style>\n",
       "<table border=\"1\" class=\"dataframe\">\n",
       "  <thead>\n",
       "    <tr style=\"text-align: right;\">\n",
       "      <th></th>\n",
       "      <th>Customer No.</th>\n",
       "      <th>District</th>\n",
       "      <th>Model</th>\n",
       "      <th>Recency</th>\n",
       "      <th>Frequency</th>\n",
       "      <th>Mileage</th>\n",
       "      <th>Revenue</th>\n",
       "      <th>RecencyCluster</th>\n",
       "      <th>FrequencyCluster</th>\n",
       "      <th>RevenueCluster</th>\n",
       "    </tr>\n",
       "  </thead>\n",
       "  <tbody>\n",
       "    <tr>\n",
       "      <td>0</td>\n",
       "      <td>1</td>\n",
       "      <td>Maharashtra</td>\n",
       "      <td>KIZASHI</td>\n",
       "      <td>1369</td>\n",
       "      <td>1</td>\n",
       "      <td>148788</td>\n",
       "      <td>0.00</td>\n",
       "      <td>0</td>\n",
       "      <td>0</td>\n",
       "      <td>0</td>\n",
       "    </tr>\n",
       "    <tr>\n",
       "      <td>1</td>\n",
       "      <td>100</td>\n",
       "      <td>Maharashtra</td>\n",
       "      <td>CITY</td>\n",
       "      <td>1207</td>\n",
       "      <td>1</td>\n",
       "      <td>111424</td>\n",
       "      <td>6632.67</td>\n",
       "      <td>0</td>\n",
       "      <td>0</td>\n",
       "      <td>0</td>\n",
       "    </tr>\n",
       "    <tr>\n",
       "      <td>2</td>\n",
       "      <td>10002</td>\n",
       "      <td>Maharashtra</td>\n",
       "      <td>OPEL CORSA</td>\n",
       "      <td>1054</td>\n",
       "      <td>1</td>\n",
       "      <td>63831</td>\n",
       "      <td>1828.56</td>\n",
       "      <td>0</td>\n",
       "      <td>0</td>\n",
       "      <td>0</td>\n",
       "    </tr>\n",
       "    <tr>\n",
       "      <td>3</td>\n",
       "      <td>10004</td>\n",
       "      <td>Maharashtra</td>\n",
       "      <td>GETZ</td>\n",
       "      <td>1054</td>\n",
       "      <td>1</td>\n",
       "      <td>134876</td>\n",
       "      <td>750.30</td>\n",
       "      <td>0</td>\n",
       "      <td>0</td>\n",
       "      <td>0</td>\n",
       "    </tr>\n",
       "    <tr>\n",
       "      <td>4</td>\n",
       "      <td>10005</td>\n",
       "      <td>Maharashtra</td>\n",
       "      <td>CITY</td>\n",
       "      <td>1054</td>\n",
       "      <td>1</td>\n",
       "      <td>107472</td>\n",
       "      <td>1745.01</td>\n",
       "      <td>0</td>\n",
       "      <td>0</td>\n",
       "      <td>0</td>\n",
       "    </tr>\n",
       "  </tbody>\n",
       "</table>\n",
       "</div>"
      ],
      "text/plain": [
       "  Customer No.     District       Model  Recency  Frequency  Mileage  Revenue  \\\n",
       "0            1  Maharashtra     KIZASHI     1369          1   148788     0.00   \n",
       "1          100  Maharashtra        CITY     1207          1   111424  6632.67   \n",
       "2        10002  Maharashtra  OPEL CORSA     1054          1    63831  1828.56   \n",
       "3        10004  Maharashtra        GETZ     1054          1   134876   750.30   \n",
       "4        10005  Maharashtra        CITY     1054          1   107472  1745.01   \n",
       "\n",
       "   RecencyCluster  FrequencyCluster  RevenueCluster  \n",
       "0               0                 0               0  \n",
       "1               0                 0               0  \n",
       "2               0                 0               0  \n",
       "3               0                 0               0  \n",
       "4               0                 0               0  "
      ]
     },
     "metadata": {},
     "output_type": "display_data"
    },
    {
     "data": {
      "text/html": [
       "<div>\n",
       "<style scoped>\n",
       "    .dataframe tbody tr th:only-of-type {\n",
       "        vertical-align: middle;\n",
       "    }\n",
       "\n",
       "    .dataframe tbody tr th {\n",
       "        vertical-align: top;\n",
       "    }\n",
       "\n",
       "    .dataframe thead th {\n",
       "        text-align: right;\n",
       "    }\n",
       "</style>\n",
       "<table border=\"1\" class=\"dataframe\">\n",
       "  <thead>\n",
       "    <tr style=\"text-align: right;\">\n",
       "      <th></th>\n",
       "      <th>RevenueCluster</th>\n",
       "      <th>count</th>\n",
       "      <th>mean</th>\n",
       "      <th>std</th>\n",
       "      <th>min</th>\n",
       "      <th>25%</th>\n",
       "      <th>50%</th>\n",
       "      <th>75%</th>\n",
       "      <th>max</th>\n",
       "    </tr>\n",
       "  </thead>\n",
       "  <tbody>\n",
       "    <tr>\n",
       "      <td>0</td>\n",
       "      <td>0</td>\n",
       "      <td>109218</td>\n",
       "      <td>2736.286244</td>\n",
       "      <td>2848.113086</td>\n",
       "      <td>0.00</td>\n",
       "      <td>448.2800</td>\n",
       "      <td>1706.155</td>\n",
       "      <td>4202.3825</td>\n",
       "      <td>11400.86</td>\n",
       "    </tr>\n",
       "    <tr>\n",
       "      <td>1</td>\n",
       "      <td>1</td>\n",
       "      <td>16189</td>\n",
       "      <td>20045.543801</td>\n",
       "      <td>7617.515620</td>\n",
       "      <td>11401.14</td>\n",
       "      <td>13969.3300</td>\n",
       "      <td>17697.730</td>\n",
       "      <td>24172.2600</td>\n",
       "      <td>43159.98</td>\n",
       "    </tr>\n",
       "    <tr>\n",
       "      <td>2</td>\n",
       "      <td>2</td>\n",
       "      <td>1742</td>\n",
       "      <td>66168.740293</td>\n",
       "      <td>25810.367656</td>\n",
       "      <td>43173.29</td>\n",
       "      <td>48307.0725</td>\n",
       "      <td>56981.280</td>\n",
       "      <td>74775.5675</td>\n",
       "      <td>206609.16</td>\n",
       "    </tr>\n",
       "    <tr>\n",
       "      <td>3</td>\n",
       "      <td>3</td>\n",
       "      <td>18</td>\n",
       "      <td>361963.741111</td>\n",
       "      <td>171910.532101</td>\n",
       "      <td>217503.35</td>\n",
       "      <td>247846.3050</td>\n",
       "      <td>299656.630</td>\n",
       "      <td>456634.0675</td>\n",
       "      <td>832669.42</td>\n",
       "    </tr>\n",
       "  </tbody>\n",
       "</table>\n",
       "</div>"
      ],
      "text/plain": [
       "   RevenueCluster   count           mean            std        min  \\\n",
       "0               0  109218    2736.286244    2848.113086       0.00   \n",
       "1               1   16189   20045.543801    7617.515620   11401.14   \n",
       "2               2    1742   66168.740293   25810.367656   43173.29   \n",
       "3               3      18  361963.741111  171910.532101  217503.35   \n",
       "\n",
       "           25%         50%          75%        max  \n",
       "0     448.2800    1706.155    4202.3825   11400.86  \n",
       "1   13969.3300   17697.730   24172.2600   43159.98  \n",
       "2   48307.0725   56981.280   74775.5675  206609.16  \n",
       "3  247846.3050  299656.630  456634.0675  832669.42  "
      ]
     },
     "metadata": {},
     "output_type": "display_data"
    }
   ],
   "source": [
    "'''\n",
    "Creating Revenue Cluster\n",
    "'''\n",
    "temp_df = predict_cluster(temp_df,'Revenue')\n",
    "temp_df = order_cluster('RevenueCluster','Revenue',temp_df,True)\n",
    "stat_desc(temp_df,'RevenueCluster','Revenue')"
   ]
  },
  {
   "cell_type": "code",
   "execution_count": 34,
   "metadata": {},
   "outputs": [
    {
     "data": {
      "text/html": [
       "<div>\n",
       "<style scoped>\n",
       "    .dataframe tbody tr th:only-of-type {\n",
       "        vertical-align: middle;\n",
       "    }\n",
       "\n",
       "    .dataframe tbody tr th {\n",
       "        vertical-align: top;\n",
       "    }\n",
       "\n",
       "    .dataframe thead th {\n",
       "        text-align: right;\n",
       "    }\n",
       "</style>\n",
       "<table border=\"1\" class=\"dataframe\">\n",
       "  <thead>\n",
       "    <tr style=\"text-align: right;\">\n",
       "      <th></th>\n",
       "      <th>Customer No.</th>\n",
       "      <th>District</th>\n",
       "      <th>Model</th>\n",
       "      <th>Recency</th>\n",
       "      <th>Frequency</th>\n",
       "      <th>Mileage</th>\n",
       "      <th>Revenue</th>\n",
       "      <th>RecencyCluster</th>\n",
       "      <th>FrequencyCluster</th>\n",
       "      <th>RevenueCluster</th>\n",
       "      <th>MileageCluster</th>\n",
       "    </tr>\n",
       "  </thead>\n",
       "  <tbody>\n",
       "    <tr>\n",
       "      <td>0</td>\n",
       "      <td>1</td>\n",
       "      <td>Maharashtra</td>\n",
       "      <td>KIZASHI</td>\n",
       "      <td>1369</td>\n",
       "      <td>1</td>\n",
       "      <td>148788</td>\n",
       "      <td>0.00</td>\n",
       "      <td>0</td>\n",
       "      <td>0</td>\n",
       "      <td>0</td>\n",
       "      <td>0</td>\n",
       "    </tr>\n",
       "    <tr>\n",
       "      <td>1</td>\n",
       "      <td>100</td>\n",
       "      <td>Maharashtra</td>\n",
       "      <td>CITY</td>\n",
       "      <td>1207</td>\n",
       "      <td>1</td>\n",
       "      <td>111424</td>\n",
       "      <td>6632.67</td>\n",
       "      <td>0</td>\n",
       "      <td>0</td>\n",
       "      <td>0</td>\n",
       "      <td>2</td>\n",
       "    </tr>\n",
       "    <tr>\n",
       "      <td>2</td>\n",
       "      <td>10002</td>\n",
       "      <td>Maharashtra</td>\n",
       "      <td>OPEL CORSA</td>\n",
       "      <td>1054</td>\n",
       "      <td>1</td>\n",
       "      <td>63831</td>\n",
       "      <td>1828.56</td>\n",
       "      <td>0</td>\n",
       "      <td>0</td>\n",
       "      <td>0</td>\n",
       "      <td>1</td>\n",
       "    </tr>\n",
       "    <tr>\n",
       "      <td>3</td>\n",
       "      <td>10004</td>\n",
       "      <td>Maharashtra</td>\n",
       "      <td>GETZ</td>\n",
       "      <td>1054</td>\n",
       "      <td>1</td>\n",
       "      <td>134876</td>\n",
       "      <td>750.30</td>\n",
       "      <td>0</td>\n",
       "      <td>0</td>\n",
       "      <td>0</td>\n",
       "      <td>0</td>\n",
       "    </tr>\n",
       "    <tr>\n",
       "      <td>4</td>\n",
       "      <td>10005</td>\n",
       "      <td>Maharashtra</td>\n",
       "      <td>CITY</td>\n",
       "      <td>1054</td>\n",
       "      <td>1</td>\n",
       "      <td>107472</td>\n",
       "      <td>1745.01</td>\n",
       "      <td>0</td>\n",
       "      <td>0</td>\n",
       "      <td>0</td>\n",
       "      <td>2</td>\n",
       "    </tr>\n",
       "  </tbody>\n",
       "</table>\n",
       "</div>"
      ],
      "text/plain": [
       "  Customer No.     District       Model  Recency  Frequency  Mileage  Revenue  \\\n",
       "0            1  Maharashtra     KIZASHI     1369          1   148788     0.00   \n",
       "1          100  Maharashtra        CITY     1207          1   111424  6632.67   \n",
       "2        10002  Maharashtra  OPEL CORSA     1054          1    63831  1828.56   \n",
       "3        10004  Maharashtra        GETZ     1054          1   134876   750.30   \n",
       "4        10005  Maharashtra        CITY     1054          1   107472  1745.01   \n",
       "\n",
       "   RecencyCluster  FrequencyCluster  RevenueCluster  MileageCluster  \n",
       "0               0                 0               0               0  \n",
       "1               0                 0               0               2  \n",
       "2               0                 0               0               1  \n",
       "3               0                 0               0               0  \n",
       "4               0                 0               0               2  "
      ]
     },
     "metadata": {},
     "output_type": "display_data"
    },
    {
     "data": {
      "text/html": [
       "<div>\n",
       "<style scoped>\n",
       "    .dataframe tbody tr th:only-of-type {\n",
       "        vertical-align: middle;\n",
       "    }\n",
       "\n",
       "    .dataframe tbody tr th {\n",
       "        vertical-align: top;\n",
       "    }\n",
       "\n",
       "    .dataframe thead th {\n",
       "        text-align: right;\n",
       "    }\n",
       "</style>\n",
       "<table border=\"1\" class=\"dataframe\">\n",
       "  <thead>\n",
       "    <tr style=\"text-align: right;\">\n",
       "      <th></th>\n",
       "      <th>MileageCluster</th>\n",
       "      <th>count</th>\n",
       "      <th>mean</th>\n",
       "      <th>std</th>\n",
       "      <th>min</th>\n",
       "      <th>25%</th>\n",
       "      <th>50%</th>\n",
       "      <th>75%</th>\n",
       "      <th>max</th>\n",
       "    </tr>\n",
       "  </thead>\n",
       "  <tbody>\n",
       "    <tr>\n",
       "      <td>0</td>\n",
       "      <td>0</td>\n",
       "      <td>15523</td>\n",
       "      <td>27867.086195</td>\n",
       "      <td>13164.278207</td>\n",
       "      <td>1</td>\n",
       "      <td>17609.00</td>\n",
       "      <td>29750.0</td>\n",
       "      <td>39240.5</td>\n",
       "      <td>47335</td>\n",
       "    </tr>\n",
       "    <tr>\n",
       "      <td>1</td>\n",
       "      <td>1</td>\n",
       "      <td>31524</td>\n",
       "      <td>66936.444170</td>\n",
       "      <td>9959.335144</td>\n",
       "      <td>47337</td>\n",
       "      <td>58805.75</td>\n",
       "      <td>67869.0</td>\n",
       "      <td>75557.0</td>\n",
       "      <td>82522</td>\n",
       "    </tr>\n",
       "    <tr>\n",
       "      <td>2</td>\n",
       "      <td>2</td>\n",
       "      <td>40849</td>\n",
       "      <td>98275.897378</td>\n",
       "      <td>8780.900425</td>\n",
       "      <td>82524</td>\n",
       "      <td>90714.00</td>\n",
       "      <td>98463.0</td>\n",
       "      <td>105843.0</td>\n",
       "      <td>113263</td>\n",
       "    </tr>\n",
       "    <tr>\n",
       "      <td>3</td>\n",
       "      <td>3</td>\n",
       "      <td>39271</td>\n",
       "      <td>128371.121438</td>\n",
       "      <td>9519.977897</td>\n",
       "      <td>113264</td>\n",
       "      <td>120288.00</td>\n",
       "      <td>127450.0</td>\n",
       "      <td>135694.0</td>\n",
       "      <td>150000</td>\n",
       "    </tr>\n",
       "  </tbody>\n",
       "</table>\n",
       "</div>"
      ],
      "text/plain": [
       "   MileageCluster  count           mean           std     min        25%  \\\n",
       "0               0  15523   27867.086195  13164.278207       1   17609.00   \n",
       "1               1  31524   66936.444170   9959.335144   47337   58805.75   \n",
       "2               2  40849   98275.897378   8780.900425   82524   90714.00   \n",
       "3               3  39271  128371.121438   9519.977897  113264  120288.00   \n",
       "\n",
       "        50%       75%     max  \n",
       "0   29750.0   39240.5   47335  \n",
       "1   67869.0   75557.0   82522  \n",
       "2   98463.0  105843.0  113263  \n",
       "3  127450.0  135694.0  150000  "
      ]
     },
     "metadata": {},
     "output_type": "display_data"
    }
   ],
   "source": [
    "'''\n",
    "Creating Mileage Cluster\n",
    "'''\n",
    "temp_df = predict_cluster(temp_df,'Mileage')\n",
    "temp_df = order_cluster('MileageCluster','Mileage',temp_df,True)\n",
    "stat_desc(temp_df,'MileageCluster','Mileage')"
   ]
  },
  {
   "cell_type": "code",
   "execution_count": 35,
   "metadata": {},
   "outputs": [
    {
     "data": {
      "text/html": [
       "<div>\n",
       "<style scoped>\n",
       "    .dataframe tbody tr th:only-of-type {\n",
       "        vertical-align: middle;\n",
       "    }\n",
       "\n",
       "    .dataframe tbody tr th {\n",
       "        vertical-align: top;\n",
       "    }\n",
       "\n",
       "    .dataframe thead th {\n",
       "        text-align: right;\n",
       "    }\n",
       "</style>\n",
       "<table border=\"1\" class=\"dataframe\">\n",
       "  <thead>\n",
       "    <tr style=\"text-align: right;\">\n",
       "      <th></th>\n",
       "      <th>Customer No.</th>\n",
       "      <th>District</th>\n",
       "      <th>Model</th>\n",
       "      <th>Recency</th>\n",
       "      <th>Frequency</th>\n",
       "      <th>Mileage</th>\n",
       "      <th>Revenue</th>\n",
       "      <th>RecencyCluster</th>\n",
       "      <th>FrequencyCluster</th>\n",
       "      <th>RevenueCluster</th>\n",
       "      <th>MileageCluster</th>\n",
       "      <th>OverallScore</th>\n",
       "    </tr>\n",
       "  </thead>\n",
       "  <tbody>\n",
       "    <tr>\n",
       "      <td>0</td>\n",
       "      <td>1</td>\n",
       "      <td>Maharashtra</td>\n",
       "      <td>KIZASHI</td>\n",
       "      <td>1369</td>\n",
       "      <td>1</td>\n",
       "      <td>148788</td>\n",
       "      <td>0.00</td>\n",
       "      <td>0</td>\n",
       "      <td>0</td>\n",
       "      <td>0</td>\n",
       "      <td>3</td>\n",
       "      <td>3</td>\n",
       "    </tr>\n",
       "    <tr>\n",
       "      <td>1</td>\n",
       "      <td>10004</td>\n",
       "      <td>Maharashtra</td>\n",
       "      <td>GETZ</td>\n",
       "      <td>1054</td>\n",
       "      <td>1</td>\n",
       "      <td>134876</td>\n",
       "      <td>750.30</td>\n",
       "      <td>0</td>\n",
       "      <td>0</td>\n",
       "      <td>0</td>\n",
       "      <td>3</td>\n",
       "      <td>3</td>\n",
       "    </tr>\n",
       "    <tr>\n",
       "      <td>2</td>\n",
       "      <td>10006</td>\n",
       "      <td>Maharashtra</td>\n",
       "      <td>I20</td>\n",
       "      <td>1054</td>\n",
       "      <td>1</td>\n",
       "      <td>132157</td>\n",
       "      <td>2727.45</td>\n",
       "      <td>0</td>\n",
       "      <td>0</td>\n",
       "      <td>0</td>\n",
       "      <td>3</td>\n",
       "      <td>3</td>\n",
       "    </tr>\n",
       "    <tr>\n",
       "      <td>3</td>\n",
       "      <td>10008</td>\n",
       "      <td>Maharashtra</td>\n",
       "      <td>BEAT</td>\n",
       "      <td>1054</td>\n",
       "      <td>1</td>\n",
       "      <td>142223</td>\n",
       "      <td>1128.24</td>\n",
       "      <td>0</td>\n",
       "      <td>0</td>\n",
       "      <td>0</td>\n",
       "      <td>3</td>\n",
       "      <td>3</td>\n",
       "    </tr>\n",
       "    <tr>\n",
       "      <td>4</td>\n",
       "      <td>10038</td>\n",
       "      <td>Maharashtra</td>\n",
       "      <td>I20</td>\n",
       "      <td>1053</td>\n",
       "      <td>1</td>\n",
       "      <td>116621</td>\n",
       "      <td>599.90</td>\n",
       "      <td>0</td>\n",
       "      <td>0</td>\n",
       "      <td>0</td>\n",
       "      <td>3</td>\n",
       "      <td>3</td>\n",
       "    </tr>\n",
       "  </tbody>\n",
       "</table>\n",
       "</div>"
      ],
      "text/plain": [
       "  Customer No.     District    Model  Recency  Frequency  Mileage  Revenue  \\\n",
       "0            1  Maharashtra  KIZASHI     1369          1   148788     0.00   \n",
       "1        10004  Maharashtra     GETZ     1054          1   134876   750.30   \n",
       "2        10006  Maharashtra      I20     1054          1   132157  2727.45   \n",
       "3        10008  Maharashtra     BEAT     1054          1   142223  1128.24   \n",
       "4        10038  Maharashtra      I20     1053          1   116621   599.90   \n",
       "\n",
       "   RecencyCluster  FrequencyCluster  RevenueCluster  MileageCluster  \\\n",
       "0               0                 0               0               3   \n",
       "1               0                 0               0               3   \n",
       "2               0                 0               0               3   \n",
       "3               0                 0               0               3   \n",
       "4               0                 0               0               3   \n",
       "\n",
       "   OverallScore  \n",
       "0             3  \n",
       "1             3  \n",
       "2             3  \n",
       "3             3  \n",
       "4             3  "
      ]
     },
     "metadata": {},
     "output_type": "display_data"
    },
    {
     "data": {
      "text/html": [
       "<div>\n",
       "<style scoped>\n",
       "    .dataframe tbody tr th:only-of-type {\n",
       "        vertical-align: middle;\n",
       "    }\n",
       "\n",
       "    .dataframe tbody tr th {\n",
       "        vertical-align: top;\n",
       "    }\n",
       "\n",
       "    .dataframe thead th {\n",
       "        text-align: right;\n",
       "    }\n",
       "</style>\n",
       "<table border=\"1\" class=\"dataframe\">\n",
       "  <thead>\n",
       "    <tr style=\"text-align: right;\">\n",
       "      <th></th>\n",
       "      <th>Recency</th>\n",
       "      <th>Frequency</th>\n",
       "      <th>Revenue</th>\n",
       "      <th>Mileage</th>\n",
       "    </tr>\n",
       "    <tr>\n",
       "      <th>OverallScore</th>\n",
       "      <th></th>\n",
       "      <th></th>\n",
       "      <th></th>\n",
       "      <th></th>\n",
       "    </tr>\n",
       "  </thead>\n",
       "  <tbody>\n",
       "    <tr>\n",
       "      <td>0</td>\n",
       "      <td>1054.541302</td>\n",
       "      <td>1.164237</td>\n",
       "      <td>2622.297561</td>\n",
       "      <td>29020.525753</td>\n",
       "    </tr>\n",
       "    <tr>\n",
       "      <td>1</td>\n",
       "      <td>899.523513</td>\n",
       "      <td>1.219199</td>\n",
       "      <td>3209.644157</td>\n",
       "      <td>49041.849592</td>\n",
       "    </tr>\n",
       "    <tr>\n",
       "      <td>2</td>\n",
       "      <td>760.237760</td>\n",
       "      <td>1.286937</td>\n",
       "      <td>3556.109534</td>\n",
       "      <td>67599.733735</td>\n",
       "    </tr>\n",
       "    <tr>\n",
       "      <td>3</td>\n",
       "      <td>586.823151</td>\n",
       "      <td>1.372932</td>\n",
       "      <td>3791.286288</td>\n",
       "      <td>80377.459776</td>\n",
       "    </tr>\n",
       "    <tr>\n",
       "      <td>4</td>\n",
       "      <td>421.157650</td>\n",
       "      <td>1.544755</td>\n",
       "      <td>4625.223450</td>\n",
       "      <td>93613.585076</td>\n",
       "    </tr>\n",
       "    <tr>\n",
       "      <td>5</td>\n",
       "      <td>254.441518</td>\n",
       "      <td>1.860612</td>\n",
       "      <td>5834.194675</td>\n",
       "      <td>102651.502943</td>\n",
       "    </tr>\n",
       "    <tr>\n",
       "      <td>6</td>\n",
       "      <td>151.139051</td>\n",
       "      <td>2.334768</td>\n",
       "      <td>7252.079351</td>\n",
       "      <td>114428.215333</td>\n",
       "    </tr>\n",
       "    <tr>\n",
       "      <td>7</td>\n",
       "      <td>142.760801</td>\n",
       "      <td>5.001189</td>\n",
       "      <td>17806.737679</td>\n",
       "      <td>103497.228894</td>\n",
       "    </tr>\n",
       "    <tr>\n",
       "      <td>8</td>\n",
       "      <td>117.422117</td>\n",
       "      <td>7.582045</td>\n",
       "      <td>28554.968585</td>\n",
       "      <td>101070.771700</td>\n",
       "    </tr>\n",
       "    <tr>\n",
       "      <td>9</td>\n",
       "      <td>99.630769</td>\n",
       "      <td>9.838462</td>\n",
       "      <td>38508.511821</td>\n",
       "      <td>106942.694872</td>\n",
       "    </tr>\n",
       "    <tr>\n",
       "      <td>10</td>\n",
       "      <td>86.194444</td>\n",
       "      <td>13.833333</td>\n",
       "      <td>79071.154167</td>\n",
       "      <td>106575.805556</td>\n",
       "    </tr>\n",
       "    <tr>\n",
       "      <td>11</td>\n",
       "      <td>82.000000</td>\n",
       "      <td>19.000000</td>\n",
       "      <td>50369.610000</td>\n",
       "      <td>117325.500000</td>\n",
       "    </tr>\n",
       "  </tbody>\n",
       "</table>\n",
       "</div>"
      ],
      "text/plain": [
       "                  Recency  Frequency       Revenue        Mileage\n",
       "OverallScore                                                     \n",
       "0             1054.541302   1.164237   2622.297561   29020.525753\n",
       "1              899.523513   1.219199   3209.644157   49041.849592\n",
       "2              760.237760   1.286937   3556.109534   67599.733735\n",
       "3              586.823151   1.372932   3791.286288   80377.459776\n",
       "4              421.157650   1.544755   4625.223450   93613.585076\n",
       "5              254.441518   1.860612   5834.194675  102651.502943\n",
       "6              151.139051   2.334768   7252.079351  114428.215333\n",
       "7              142.760801   5.001189  17806.737679  103497.228894\n",
       "8              117.422117   7.582045  28554.968585  101070.771700\n",
       "9               99.630769   9.838462  38508.511821  106942.694872\n",
       "10              86.194444  13.833333  79071.154167  106575.805556\n",
       "11              82.000000  19.000000  50369.610000  117325.500000"
      ]
     },
     "metadata": {},
     "output_type": "display_data"
    }
   ],
   "source": [
    "'''\n",
    "Calculating Overall score\n",
    "'''\n",
    "temp_df['OverallScore'] = temp_df['RecencyCluster'] + temp_df['FrequencyCluster'] + temp_df['RevenueCluster'] + temp_df['MileageCluster']\n",
    "display (temp_df.head())\n",
    "display(temp_df.groupby('OverallScore')['Recency','Frequency','Revenue','Mileage'].mean())"
   ]
  },
  {
   "cell_type": "code",
   "execution_count": 36,
   "metadata": {},
   "outputs": [],
   "source": [
    "temp_df.to_csv('/Users/pritigirishvankudre/Capstone Project/data/jainam_cluster.csv')"
   ]
  },
  {
   "cell_type": "code",
   "execution_count": 37,
   "metadata": {},
   "outputs": [],
   "source": [
    "'''\n",
    "Selecting only required RFM features for model building\n",
    "'''\n",
    "model_df = temp_df.iloc[:,0:7]"
   ]
  },
  {
   "cell_type": "code",
   "execution_count": 38,
   "metadata": {},
   "outputs": [
    {
     "data": {
      "text/plain": [
       "Recency       0.640613\n",
       "Frequency     5.440516\n",
       "Mileage      -0.516503\n",
       "Revenue      11.826165\n",
       "dtype: float64"
      ]
     },
     "execution_count": 38,
     "metadata": {},
     "output_type": "execute_result"
    }
   ],
   "source": [
    "'''\n",
    "Understanding skewness of data before applying any skewness correction treatment\n",
    "'''\n",
    "model_df.skew(axis=0)"
   ]
  },
  {
   "cell_type": "code",
   "execution_count": 39,
   "metadata": {},
   "outputs": [],
   "source": [
    "'''\n",
    "To treat right/positive skewness of the data, applying log transformation method for Frequency and Revenue columns\n",
    "'''\n",
    "model_df = log_transform(model_df)"
   ]
  },
  {
   "cell_type": "code",
   "execution_count": 40,
   "metadata": {},
   "outputs": [
    {
     "data": {
      "text/plain": [
       "Recency      0.640613\n",
       "Frequency    1.341952\n",
       "Mileage     -0.516503\n",
       "Revenue     -1.572178\n",
       "dtype: float64"
      ]
     },
     "execution_count": 40,
     "metadata": {},
     "output_type": "execute_result"
    }
   ],
   "source": [
    "'''\n",
    "Skewness of data post applying correcting measures\n",
    "'''\n",
    "model_df.skew(axis=0)"
   ]
  },
  {
   "cell_type": "code",
   "execution_count": 41,
   "metadata": {},
   "outputs": [
    {
     "name": "stdout",
     "output_type": "stream",
     "text": [
      "Distribution plot visualization for Frequency\n"
     ]
    },
    {
     "data": {
      "image/png": "[encoded data removed]",
      "text/plain": [
       "<Figure size 432x288 with 1 Axes>"
      ]
     },
     "metadata": {
      "needs_background": "light"
     },
     "output_type": "display_data"
    },
    {
     "name": "stdout",
     "output_type": "stream",
     "text": [
      "Mean for  Frequency  = 0.40555423523388395\n",
      "Median for  Frequency  = 0.0\n",
      "** ** ** ** ** ** ** ** ** ** ** ** ** ** ** ** **\n",
      "Distribution plot visualization for Mileage\n"
     ]
    },
    {
     "data": {
      "image/png": "[encoded data removed]",
      "text/plain": [
       "<Figure size 432x288 with 1 Axes>"
      ]
     },
     "metadata": {
      "needs_background": "light"
     },
     "output_type": "display_data"
    },
    {
     "name": "stdout",
     "output_type": "stream",
     "text": [
      "Mean for  Mileage  = 91206.2066967059\n",
      "Median for  Mileage  = 95533.0\n",
      "** ** ** ** ** ** ** ** ** ** ** ** ** ** ** ** **\n",
      "Distribution plot visualization for Revenue\n"
     ]
    },
    {
     "data": {
      "image/png": "[encoded data removed]",
      "text/plain": [
       "<Figure size 432x288 with 1 Axes>"
      ]
     },
     "metadata": {
      "needs_background": "light"
     },
     "output_type": "display_data"
    },
    {
     "name": "stdout",
     "output_type": "stream",
     "text": [
      "Mean for  Revenue  = 7.3279115137599256\n",
      "Median for  Revenue  = 7.768765832028116\n",
      "** ** ** ** ** ** ** ** ** ** ** ** ** ** ** ** **\n"
     ]
    }
   ],
   "source": [
    "'''\n",
    "Visualization of distribution plot post skewness correction\n",
    "'''\n",
    "\n",
    "# For Frequency\n",
    "print ('Distribution plot visualization for Frequency')\n",
    "dist_plot(model_df,'Frequency')\n",
    "print (\"** ** ** ** ** ** ** ** ** ** ** ** ** ** ** ** **\")\n",
    "\n",
    "# For Mileage\n",
    "print ('Distribution plot visualization for Mileage')\n",
    "dist_plot(model_df,'Mileage')\n",
    "print (\"** ** ** ** ** ** ** ** ** ** ** ** ** ** ** ** **\")\n",
    "\n",
    "# For Revenue\n",
    "print ('Distribution plot visualization for Revenue')\n",
    "dist_plot(model_df,'Revenue')\n",
    "print (\"** ** ** ** ** ** ** ** ** ** ** ** ** ** ** ** **\")"
   ]
  },
  {
   "cell_type": "code",
   "execution_count": 42,
   "metadata": {},
   "outputs": [
    {
     "data": {
      "text/plain": [
       "'\\nApplying OHE to categorical fields\\n'"
      ]
     },
     "execution_count": 42,
     "metadata": {},
     "output_type": "execute_result"
    }
   ],
   "source": [
    "'''\n",
    "Applying OHE to categorical fields\n",
    "'''\n",
    "#model_df = OHE(model_df)"
   ]
  },
  {
   "cell_type": "code",
   "execution_count": 43,
   "metadata": {},
   "outputs": [],
   "source": [
    "'''\n",
    "Applying Feature Hashing Scheme to categorical fields\n",
    "'''\n",
    "model_df = hash_feature(model_df)"
   ]
  },
  {
   "cell_type": "code",
   "execution_count": 44,
   "metadata": {},
   "outputs": [],
   "source": [
    "'''\n",
    "Splitting data into X and Y\n",
    "'''\n",
    "X,y = split_data(model_df)"
   ]
  },
  {
   "cell_type": "code",
   "execution_count": 45,
   "metadata": {},
   "outputs": [],
   "source": [
    "'''\n",
    "Creating Train and Test sample to fit and predict using Random Forest Regressor model\n",
    "'''\n",
    "X_train, X_test, y_train, y_test = train_test_split(X, y, test_size=0.3, random_state=7)"
   ]
  },
  {
   "cell_type": "code",
   "execution_count": 46,
   "metadata": {},
   "outputs": [],
   "source": [
    "'''\n",
    "Defining the model\n",
    "'''\n",
    "model = RandomForestRegressor(n_estimators=100)"
   ]
  },
  {
   "cell_type": "code",
   "execution_count": 47,
   "metadata": {},
   "outputs": [
    {
     "name": "stdout",
     "output_type": "stream",
     "text": [
      "Accuracy of the Model is =  0.8906149441960943\n"
     ]
    }
   ],
   "source": [
    "'''\n",
    "Fitting Random Forest Regressor Model\n",
    "'''\n",
    "fit_data(X_train,y_train,model)"
   ]
  },
  {
   "cell_type": "code",
   "execution_count": 48,
   "metadata": {},
   "outputs": [
    {
     "name": "stdout",
     "output_type": "stream",
     "text": [
      "Root Mean Square Error for the model is within plus/minus of  2.0210396151655448\n"
     ]
    }
   ],
   "source": [
    "'''\n",
    "Predicting target variable using fitted model\n",
    "'''\n",
    "predict_data(X_test,y_test,model)"
   ]
  },
  {
   "cell_type": "markdown",
   "metadata": {},
   "source": [
    "# Testing model on 2016 data"
   ]
  },
  {
   "cell_type": "code",
   "execution_count": 49,
   "metadata": {},
   "outputs": [],
   "source": [
    "'''\n",
    "Creating attributes of Recency, Frequency and Monetary value\n",
    "'''\n",
    "temp_df_test = RFM_feature(data_1yr)"
   ]
  },
  {
   "cell_type": "code",
   "execution_count": 50,
   "metadata": {},
   "outputs": [],
   "source": [
    "'''\n",
    "Treating for extreme outliers\n",
    "'''\n",
    "temp_df_test = outliers_treat(temp_df_test)"
   ]
  },
  {
   "cell_type": "code",
   "execution_count": 51,
   "metadata": {},
   "outputs": [],
   "source": [
    "'''\n",
    "Feature engineering with Mileage Feture\n",
    "'''\n",
    "temp_df_test = mileage_avg(temp_df_test)"
   ]
  },
  {
   "cell_type": "code",
   "execution_count": 52,
   "metadata": {},
   "outputs": [],
   "source": [
    "'''\n",
    "Selecting only required RFM features for model building\n",
    "'''\n",
    "model_df_test = temp_df_test.iloc[:,0:7]"
   ]
  },
  {
   "cell_type": "code",
   "execution_count": 53,
   "metadata": {},
   "outputs": [
    {
     "data": {
      "text/plain": [
       "Recency       0.435585\n",
       "Frequency    12.844593\n",
       "Mileage      -0.443139\n",
       "Revenue      18.271441\n",
       "dtype: float64"
      ]
     },
     "execution_count": 53,
     "metadata": {},
     "output_type": "execute_result"
    }
   ],
   "source": [
    "'''\n",
    "Understanding skewness of data before applying any skewness correction treatment\n",
    "'''\n",
    "model_df_test.skew(axis=0)"
   ]
  },
  {
   "cell_type": "code",
   "execution_count": 54,
   "metadata": {},
   "outputs": [],
   "source": [
    "'''\n",
    "To treat right/positive skewness of the data, applying log transformation method for Frequency and Revenue columns\n",
    "'''\n",
    "model_df_test = log_transform(model_df_test)"
   ]
  },
  {
   "cell_type": "code",
   "execution_count": 55,
   "metadata": {},
   "outputs": [
    {
     "data": {
      "text/plain": [
       "Recency      0.435585\n",
       "Frequency    1.801139\n",
       "Mileage     -0.443139\n",
       "Revenue     -1.326058\n",
       "dtype: float64"
      ]
     },
     "execution_count": 55,
     "metadata": {},
     "output_type": "execute_result"
    }
   ],
   "source": [
    "'''\n",
    "Skewness of data post applying correcting measures\n",
    "'''\n",
    "model_df_test.skew(axis=0)"
   ]
  },
  {
   "cell_type": "code",
   "execution_count": 56,
   "metadata": {},
   "outputs": [],
   "source": [
    "'''\n",
    "Applying Feature Hashing Scheme to categorical fields\n",
    "'''\n",
    "model_df_test = hash_feature(model_df_test)"
   ]
  },
  {
   "cell_type": "code",
   "execution_count": 57,
   "metadata": {},
   "outputs": [],
   "source": [
    "'''\n",
    "Splitting data into X and Y\n",
    "'''\n",
    "X,y = split_data(model_df_test)"
   ]
  },
  {
   "cell_type": "code",
   "execution_count": 58,
   "metadata": {},
   "outputs": [
    {
     "name": "stdout",
     "output_type": "stream",
     "text": [
      "Root Mean Square Error for the model is within plus/minus of  2.6118631043470377\n"
     ]
    }
   ],
   "source": [
    "'''\n",
    "Predicting target variable using fitted model\n",
    "'''\n",
    "predict_data(X,y,model)"
   ]
  },
  {
   "cell_type": "code",
   "execution_count": null,
   "metadata": {},
   "outputs": [],
   "source": []
  }
 ],
 "metadata": {
  "kernelspec": {
   "display_name": "Python 3",
   "language": "python",
   "name": "python3"
  },
  "language_info": {
   "codemirror_mode": {
    "name": "ipython",
    "version": 3
   },
   "file_extension": ".py",
   "mimetype": "text/x-python",
   "name": "python",
   "nbconvert_exporter": "python",
   "pygments_lexer": "ipython3",
   "version": "3.7.4"
  }
 },
 "nbformat": 4,
 "nbformat_minor": 2
}

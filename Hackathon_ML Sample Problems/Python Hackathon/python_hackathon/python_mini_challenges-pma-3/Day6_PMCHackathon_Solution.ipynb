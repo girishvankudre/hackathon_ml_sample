{
 "cells": [
  {
   "cell_type": "markdown",
   "metadata": {},
   "source": [
    "# Challenge 1: Smallest Palindrome\n",
    "Create a function called palindrome(num) that given a number 'num', finds the next smallest palindrome and returns it\n",
    "\n",
    "For eg:\n",
    "\n",
    "Input\n",
    "\n",
    "palindrome(123)\n",
    "\n",
    "Output\n",
    "\n",
    "131\n",
    "\n",
    "Input\n",
    "\n",
    "palindrome(1331)\n",
    "\n",
    "Output\n",
    "\n",
    "1441"
   ]
  },
  {
   "cell_type": "code",
   "execution_count": 10,
   "metadata": {},
   "outputs": [
    {
     "name": "stdout",
     "output_type": "stream",
     "text": [
      "Enter the number for which next palindrome sequece to be searched: 44\n",
      "45\n",
      "['4', '5']\n",
      "45\n",
      "54\n",
      "46\n",
      "['4', '6']\n",
      "46\n",
      "64\n",
      "47\n",
      "['4', '7']\n",
      "47\n",
      "74\n",
      "48\n",
      "['4', '8']\n",
      "48\n",
      "84\n",
      "49\n",
      "['4', '9']\n",
      "49\n",
      "94\n",
      "50\n",
      "['5', '0']\n",
      "50\n",
      "5\n",
      "51\n",
      "['5', '1']\n",
      "51\n",
      "15\n",
      "52\n",
      "['5', '2']\n",
      "52\n",
      "25\n",
      "53\n",
      "['5', '3']\n",
      "53\n",
      "35\n",
      "54\n",
      "['5', '4']\n",
      "54\n",
      "45\n",
      "55\n",
      "['5', '5']\n",
      "55\n",
      "55\n",
      "Next Palindrome number in sequence is 55\n"
     ]
    }
   ],
   "source": [
    "def palindrome(int1):\n",
    "    int1 += 1\n",
    "    print (int1)\n",
    "    lst1 = list (str(int1))\n",
    "    print (lst1)\n",
    "    int3 = int(\"\".join(map(str,lst1)))\n",
    "    print (int3)\n",
    "    int4 = int(\"\".join(map(str,reversed(lst1))))\n",
    "    print (int4)\n",
    "    if int3 == int4:\n",
    "        print (\"Next Palindrome number in sequence is\",int(\"\".join(map(str,lst1))))\n",
    "    else:\n",
    "        palindrome(int3) \n",
    "    \n",
    "number = int(input(\"Enter the number for which next palindrome sequece to be searched: \"))\n",
    "palindrome(number)"
   ]
  },
  {
   "cell_type": "markdown",
   "metadata": {},
   "source": [
    "# Challenge 2: Anagram Scramble\n",
    "\n",
    "Create a function called 'a_scramble(str_1, str_2)' that given the strings'str_1','str_2' returns True if a portion of 'str_1' characters can be scrambled to match 'str2', else return False\n",
    "\n",
    "For eg:\n",
    "\n",
    "Input\n",
    "a_scramble(\"Tom Marvolo Riddle\",\"Voldemort\")\n",
    "\n",
    "Output\n",
    "True\n",
    "\n",
    "Input\n",
    "a_scramble(\"ticket\",\"chat\")\n",
    "\n",
    "Output\n",
    "False"
   ]
  },
  {
   "cell_type": "code",
   "execution_count": 27,
   "metadata": {},
   "outputs": [
    {
     "name": "stdout",
     "output_type": "stream",
     "text": [
      "Enter main string: Tom Marvolo Riddle\n",
      "Enter sub string: Voldemort\n",
      "True\n"
     ]
    }
   ],
   "source": [
    "#str_1 = \"Flemingo\"\n",
    "#str_2 = \"egg\"\n",
    "\n",
    "#str_3 = str_1.lower()\n",
    "#str_4 = str_2.lower()\n",
    "\n",
    "def a_scrambler(str_3,str_4):\n",
    "    \n",
    "    j = 0\n",
    "    for i in str_4:\n",
    "#        print (i)\n",
    "        if i in str_3:\n",
    "            j += 1\n",
    "#            k = str_3.find(i)\n",
    "#            print (\"str_3.find(i): \",k)\n",
    "#            print (\"str[k]: \",str_3[k])\n",
    "#            str_3 = str_3.replace(str_3[k],\"\",1) \n",
    "# one line replacement for above 4 lines is\n",
    "            str_3 = str_3.replace(str_3[str_3.find(i)],\"\",1)      \n",
    "#            print (str_3)\n",
    "#            print (j)\n",
    "\n",
    "    if j == len(str_4):\n",
    "        print (\"True\")\n",
    "    else:\n",
    "        print (\"False\")\n",
    "        \n",
    "str_1 = str(input(\"Enter main string: \")).lower()\n",
    "str_2 = str(input(\"Enter sub string: \")).lower()\n",
    "a_scrambler(str_1,str_2)"
   ]
  },
  {
   "cell_type": "markdown",
   "metadata": {},
   "source": [
    "# Challenge 3: Fibonacci Check\n",
    "Create a function called check_fib(num) that checks if the given number 'num' is part of the fibonacci sequence and returns True if it is, else False\n",
    "\n",
    "For eg:\n",
    "Input\n",
    "check_fib(145)\n",
    "\n",
    "Output\n",
    "False\n",
    "\n",
    "Input\n",
    "check_fib(377)\n",
    "\n",
    "Output\n",
    "True"
   ]
  },
  {
   "cell_type": "code",
   "execution_count": 49,
   "metadata": {},
   "outputs": [
    {
     "name": "stdout",
     "output_type": "stream",
     "text": [
      "False\n",
      "True\n"
     ]
    }
   ],
   "source": [
    "def check_fibi(number):    \n",
    "    i = 0\n",
    "    j = 1 \n",
    "    sum_1 = 0\n",
    "    while i != number and i < number:\n",
    "        sum_1 = i + j\n",
    "        if sum_1 == number:\n",
    "            return (True)\n",
    "            break\n",
    "        else:\n",
    "            i = j\n",
    "            j = sum_1\n",
    "    return (False)\n",
    "\n",
    "print (check_fibi(145))\n",
    "print (check_fibi(377))"
   ]
  },
  {
   "cell_type": "markdown",
   "metadata": {},
   "source": [
    "# Challenge 4: String Compression\n",
    "Write a function compress(word) that given a word word returns the string with it's letters and how many times they occur continously together.\n",
    "\n",
    "For eg:\n",
    "\n",
    "Input\n",
    "a_scramble(\"abbs\")\n",
    "\n",
    "Output\n",
    "\"a1b2s1\"\n",
    "\n",
    "Explanation: 1 occurence of a, followed by 2 occurences of b, followed by 1 occurence of s\n",
    "\n",
    "Input\n",
    "compress(\"xxcccdex\")\n",
    "\n",
    "Output\n",
    "\"x2c3d1e1x1\"\n",
    "\n",
    "Explanation: 2 occurences of x, followed by 3 occurences of c, followed by 1 occurence of d, followed by 1 occurence of e, followed by 1 occurence of x"
   ]
  },
  {
   "cell_type": "code",
   "execution_count": 56,
   "metadata": {},
   "outputs": [
    {
     "name": "stdout",
     "output_type": "stream",
     "text": [
      "Enter the string: xxcccdex\n",
      "x2c3d1e1x1\n"
     ]
    }
   ],
   "source": [
    "def compress(word):    \n",
    "    count=1\n",
    "    length=\"\"\n",
    "    if len(word)>1:\n",
    "        for i in range(1,len(word)):\n",
    "            if word[i-1]==word[i]:\n",
    "                count+=1\n",
    "            else:\n",
    "                if word[i-1] == word[i]:\n",
    "                    length += word[i]+str(count)\n",
    "                    count=1\n",
    "                length += word[i-1]+str(count)\n",
    "                count=1\n",
    "        length += word[i]+str(count)\n",
    "    else:\n",
    "        length += (\"No consucutive repetition\")\n",
    "    print (length)\n",
    "\n",
    "word = str(input(\"Enter the string: \"))\n",
    "compress(word)"
   ]
  },
  {
   "cell_type": "markdown",
   "metadata": {},
   "source": [
    "# Challenge 5: K-Distinct\n",
    "Write a function k_distinct(string,k) that given a string 'string' and number 'k', it checks whether the 'string' has 'k' distinct characters\n",
    "\n",
    "For eg:\n",
    "\n",
    "Input\n",
    "k_distinct('Messoptamia',8)\n",
    "\n",
    "Output\n",
    "True\n",
    "\n",
    "Input\n",
    "k_distinct('banana',4)\n",
    "\n",
    "Output\n",
    "False"
   ]
  },
  {
   "cell_type": "code",
   "execution_count": 8,
   "metadata": {},
   "outputs": [
    {
     "name": "stdout",
     "output_type": "stream",
     "text": [
      "Enter the string: Messoptamia\n",
      "Enter the number: 8\n",
      "lst:  ['m']\n",
      "lst:  ['m', 'e']\n",
      "lst:  ['m', 'e', 's']\n",
      "lst:  ['m', 'e', 's', 'o']\n",
      "lst:  ['m', 'e', 's', 'o', 'p']\n",
      "lst:  ['m', 'e', 's', 'o', 'p', 't']\n",
      "lst:  ['m', 'e', 's', 'o', 'p', 't', 'a']\n",
      "lst:  ['m', 'e', 's', 'o', 'p', 't', 'a', 'i']\n"
     ]
    },
    {
     "data": {
      "text/plain": [
       "True"
      ]
     },
     "execution_count": 8,
     "metadata": {},
     "output_type": "execute_result"
    }
   ],
   "source": [
    "def k_distinct(string,k):\n",
    "    lst = []\n",
    "    for i in string:\n",
    "        if i not in lst:\n",
    "            lst.append(i)\n",
    "            print (\"lst: \",lst)\n",
    "    if len(lst) == k:\n",
    "        return (True)\n",
    "    else:\n",
    "        return (False)\n",
    "\n",
    "string = str(input(\"Enter the string: \")).lower()\n",
    "k = int(input(\"Enter the number: \"))\n",
    "k_distinct(string,k)"
   ]
  },
  {
   "cell_type": "code",
   "execution_count": null,
   "metadata": {},
   "outputs": [],
   "source": []
  }
 ],
 "metadata": {
  "kernelspec": {
   "display_name": "Python 3",
   "language": "python",
   "name": "python3"
  },
  "language_info": {
   "codemirror_mode": {
    "name": "ipython",
    "version": 3
   },
   "file_extension": ".py",
   "mimetype": "text/x-python",
   "name": "python",
   "nbconvert_exporter": "python",
   "pygments_lexer": "ipython3",
   "version": "3.7.3"
  }
 },
 "nbformat": 4,
 "nbformat_minor": 2
}

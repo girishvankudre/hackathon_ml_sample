<html>
<head>
<title>StatisticsCalculator.py</title>
<meta http-equiv="Content-Type" content="text/html; charset=utf-8">
<style type="text/css">
.ln { color: #999999; font-weight: normal; font-style: normal; }
.s0 { color: rgb(0,0,128); font-weight: bold; }
.s1 { color: rgb(0,0,0); }
.s2 { color: rgb(0,0,255); }
.s3 { color: rgb(0,128,128); font-weight: bold; }
.s4 { color: rgb(128,128,128); font-style: italic; }
</style>
</head>
<BODY BGCOLOR="#ffffff">
<TABLE CELLSPACING=0 CELLPADDING=5 COLS=1 WIDTH="100%" BGCOLOR="#c0c0c0" >
<TR><TD><CENTER>
<FONT FACE="Arial, Helvetica" COLOR="#000000">
StatisticsCalculator.py</FONT>
</center></TD></TR></TABLE>
<pre>
<a name="l1"><span class="ln">1    </span></a><span class="s0">import </span><span class="s1">pandas </span><span class="s0">as </span><span class="s1">pd 
<a name="l2"><span class="ln">2    </span></a></span><span class="s0">import </span><span class="s1">matplotlib 
<a name="l3"><span class="ln">3    </span></a></span><span class="s0">import </span><span class="s1">matplotlib.pyplot </span><span class="s0">as </span><span class="s1">plt 
<a name="l4"><span class="ln">4    </span></a></span><span class="s0">import </span><span class="s1">numpy </span><span class="s0">as </span><span class="s1">np 
<a name="l5"><span class="ln">5    </span></a></span><span class="s0">import </span><span class="s1">seaborn </span><span class="s0">as </span><span class="s1">sns 
<a name="l6"><span class="ln">6    </span></a></span><span class="s0">import </span><span class="s1">xlsxwriter 
<a name="l7"><span class="ln">7    </span></a></span><span class="s0">import </span><span class="s1">openpyxl 
<a name="l8"><span class="ln">8    </span></a></span><span class="s0">from </span><span class="s1">pywaffle </span><span class="s0">import </span><span class="s1">Waffle 
<a name="l9"><span class="ln">9    </span></a></span><span class="s0">from </span><span class="s1">scipy </span><span class="s0">import </span><span class="s1">stats 
<a name="l10"><span class="ln">10   </span></a></span><span class="s0">from </span><span class="s1">sklearn.model_selection </span><span class="s0">import </span><span class="s1">train_test_split 
<a name="l11"><span class="ln">11   </span></a></span><span class="s0">from </span><span class="s1">sklearn </span><span class="s0">import </span><span class="s1">datasets 
<a name="l12"><span class="ln">12   </span></a></span><span class="s0">from </span><span class="s1">sklearn.linear_model </span><span class="s0">import </span><span class="s1">LinearRegression 
<a name="l13"><span class="ln">13   </span></a></span><span class="s0">from </span><span class="s1">sklearn.linear_model </span><span class="s0">import </span><span class="s1">LogisticRegression 
<a name="l14"><span class="ln">14   </span></a></span><span class="s0">from </span><span class="s1">sklearn.ensemble </span><span class="s0">import </span><span class="s1">RandomForestClassifier 
<a name="l15"><span class="ln">15   </span></a></span><span class="s0">from </span><span class="s1">sklearn </span><span class="s0">import </span><span class="s1">metrics 
<a name="l16"><span class="ln">16   </span></a></span><span class="s0">from </span><span class="s1">sklearn.svm </span><span class="s0">import </span><span class="s1">LinearSVC 
<a name="l17"><span class="ln">17   </span></a></span><span class="s0">from </span><span class="s1">sklearn.feature_selection </span><span class="s0">import </span><span class="s1">RFE 
<a name="l18"><span class="ln">18   </span></a> 
<a name="l19"><span class="ln">19   </span></a> 
<a name="l20"><span class="ln">20   </span></a> 
<a name="l21"><span class="ln">21   </span></a></span><span class="s0">class </span><span class="s1">StatisticsCalculator: 
<a name="l22"><span class="ln">22   </span></a> 
<a name="l23"><span class="ln">23   </span></a>    label_encoded_df = pd.DataFrame() 
<a name="l24"><span class="ln">24   </span></a>    one_hot_encoded_df = pd.DataFrame() 
<a name="l25"><span class="ln">25   </span></a>    initial_categorical_column_list=[] 
<a name="l26"><span class="ln">26   </span></a>    initial_numerical_column_list=[] 
<a name="l27"><span class="ln">27   </span></a>    init_lin_reg_stats_df=pd.DataFrame() 
<a name="l28"><span class="ln">28   </span></a>    init_log_reg_stats_df = pd.DataFrame() 
<a name="l29"><span class="ln">29   </span></a>    init_actual_test_log_reg_stats_df = pd.DataFrame() 
<a name="l30"><span class="ln">30   </span></a>    init_rnd_for_cls_stats_df = pd.DataFrame() 
<a name="l31"><span class="ln">31   </span></a>    init_rnd_for_cls_feature_imp_df=pd.DataFrame() 
<a name="l32"><span class="ln">32   </span></a>    init_rfe_lin_reg_df=pd.DataFrame() 
<a name="l33"><span class="ln">33   </span></a>    init_rfe_log_reg_df=pd.DataFrame() 
<a name="l34"><span class="ln">34   </span></a>    cat_summary_stats_df=pd.DataFrame() 
<a name="l35"><span class="ln">35   </span></a>    numeric_summary_stats_df=pd.DataFrame() 
<a name="l36"><span class="ln">36   </span></a>    init_rows=</span><span class="s2">0</span><span class="s1"> 
<a name="l37"><span class="ln">37   </span></a>    init_cols=</span><span class="s2">0</span><span class="s1"> 
<a name="l38"><span class="ln">38   </span></a>    eligible_for_encoding_catcols = [] 
<a name="l39"><span class="ln">39   </span></a> 
<a name="l40"><span class="ln">40   </span></a> 
<a name="l41"><span class="ln">41   </span></a>    pd.options.display.max_columns=</span><span class="s2">12</span><span class="s1"> 
<a name="l42"><span class="ln">42   </span></a> 
<a name="l43"><span class="ln">43   </span></a> 
<a name="l44"><span class="ln">44   </span></a>    </span><span class="s0">def </span><span class="s1">__init__(self,data): 
<a name="l45"><span class="ln">45   </span></a>        self.dataframe=pd.DataFrame(data) 
<a name="l46"><span class="ln">46   </span></a>        print(</span><span class="s3">&quot;Creating StatisticsCalculator &quot;</span><span class="s1">) 
<a name="l47"><span class="ln">47   </span></a> 
<a name="l48"><span class="ln">48   </span></a> 
<a name="l49"><span class="ln">49   </span></a>    </span><span class="s0">def </span><span class="s1">populate_summary_stats(self,data): 
<a name="l50"><span class="ln">50   </span></a>        </span><span class="s4">&quot;&quot;&quot; 
<a name="l51"><span class="ln">51   </span></a>        Prints the details of the class 
<a name="l52"><span class="ln">52   </span></a>        &quot;&quot;&quot;</span><span class="s1"> 
<a name="l53"><span class="ln">53   </span></a>        df=pd.DataFrame(data) 
<a name="l54"><span class="ln">54   </span></a> 
<a name="l55"><span class="ln">55   </span></a>        summary_stats_list = [] 
<a name="l56"><span class="ln">56   </span></a> 
<a name="l57"><span class="ln">57   </span></a>        print(</span><span class="s3">&quot;Dataframe Rows and Columns :</span><span class="s0">\t</span><span class="s3">&quot;</span><span class="s1">,df.shape) 
<a name="l58"><span class="ln">58   </span></a>        self.init_rows=df.shape[</span><span class="s2">0</span><span class="s1">] 
<a name="l59"><span class="ln">59   </span></a>        self.init_cols=df.shape[</span><span class="s2">1</span><span class="s1">] 
<a name="l60"><span class="ln">60   </span></a>        print(self.init_rows) 
<a name="l61"><span class="ln">61   </span></a>        print(self.init_cols) 
<a name="l62"><span class="ln">62   </span></a> 
<a name="l63"><span class="ln">63   </span></a>        print(</span><span class="s3">&quot;Dataframe Columns and data types&quot;</span><span class="s1">) 
<a name="l64"><span class="ln">64   </span></a>        print(df.dtypes) 
<a name="l65"><span class="ln">65   </span></a> 
<a name="l66"><span class="ln">66   </span></a>        print(</span><span class="s3">&quot;Basic stats of numeric columns&quot;</span><span class="s1">) 
<a name="l67"><span class="ln">67   </span></a>        print(df.describe()) 
<a name="l68"><span class="ln">68   </span></a> 
<a name="l69"><span class="ln">69   </span></a>        print(</span><span class="s3">&quot;Basic stats of  categorical columns&quot;</span><span class="s1">) 
<a name="l70"><span class="ln">70   </span></a>        print(df.describe(include=[np.object])) 
<a name="l71"><span class="ln">71   </span></a> 
<a name="l72"><span class="ln">72   </span></a>        cols = df.columns 
<a name="l73"><span class="ln">73   </span></a> 
<a name="l74"><span class="ln">74   </span></a>        numcols = [x </span><span class="s0">for </span><span class="s1">x </span><span class="s0">in </span><span class="s1">df.select_dtypes(include=[np.number])] 
<a name="l75"><span class="ln">75   </span></a>        print(</span><span class="s3">&quot;-- Numerical columns --- &quot;</span><span class="s1">) 
<a name="l76"><span class="ln">76   </span></a>        print(numcols) 
<a name="l77"><span class="ln">77   </span></a> 
<a name="l78"><span class="ln">78   </span></a> 
<a name="l79"><span class="ln">79   </span></a>        catcols = list(set(cols) - set(numcols)) 
<a name="l80"><span class="ln">80   </span></a>        print(</span><span class="s3">&quot;-- Category columns --- &quot;</span><span class="s1">) 
<a name="l81"><span class="ln">81   </span></a>        print(catcols) 
<a name="l82"><span class="ln">82   </span></a> 
<a name="l83"><span class="ln">83   </span></a> 
<a name="l84"><span class="ln">84   </span></a>        </span><span class="s0">if</span><span class="s1">(len(catcols) != </span><span class="s2">0</span><span class="s1">): 
<a name="l85"><span class="ln">85   </span></a> 
<a name="l86"><span class="ln">86   </span></a>            self.initial_categorical_column_list=catcols 
<a name="l87"><span class="ln">87   </span></a>            catcol_list=[] 
<a name="l88"><span class="ln">88   </span></a> 
<a name="l89"><span class="ln">89   </span></a>            </span><span class="s0">for </span><span class="s1">k </span><span class="s0">in </span><span class="s1">catcols: 
<a name="l90"><span class="ln">90   </span></a>                </span><span class="s4">#print(&quot;--- Category column --- &quot;,k)</span><span class="s1"> 
<a name="l91"><span class="ln">91   </span></a>                uniquevalues=len(df[k].unique()) 
<a name="l92"><span class="ln">92   </span></a> 
<a name="l93"><span class="ln">93   </span></a>                </span><span class="s4">#eligible for encoding only if there are less than 10 unique values</span><span class="s1"> 
<a name="l94"><span class="ln">94   </span></a>                </span><span class="s0">if</span><span class="s1">((uniquevalues&gt;</span><span class="s2">1</span><span class="s1">) </span><span class="s0">and </span><span class="s1">(uniquevalues&lt;</span><span class="s2">150</span><span class="s1">)): 
<a name="l95"><span class="ln">95   </span></a>                    self.eligible_for_encoding_catcols.append(k) 
<a name="l96"><span class="ln">96   </span></a> 
<a name="l97"><span class="ln">97   </span></a>                c_record_count = df[k].count() 
<a name="l98"><span class="ln">98   </span></a>                c_record_value_count = df[k].value_counts() 
<a name="l99"><span class="ln">99   </span></a>                c_countofnulls = df[k].isnull().sum() 
<a name="l100"><span class="ln">100  </span></a>                c_uniquerecords = df[k].nunique() 
<a name="l101"><span class="ln">101  </span></a>                c_topval=df[k].value_counts().nlargest(</span><span class="s2">1</span><span class="s1">).index[</span><span class="s2">0</span><span class="s1">] 
<a name="l102"><span class="ln">102  </span></a>                c_topval_count=df[k].value_counts().nlargest(</span><span class="s2">1</span><span class="s1">)[</span><span class="s2">0</span><span class="s1">] 
<a name="l103"><span class="ln">103  </span></a> 
<a name="l104"><span class="ln">104  </span></a>                summary_stats_dict = {} 
<a name="l105"><span class="ln">105  </span></a>                summary_stats_dict[</span><span class="s3">&quot;COLUMN&quot;</span><span class="s1">] = k 
<a name="l106"><span class="ln">106  </span></a>                summary_stats_dict[</span><span class="s3">&quot;TYPE&quot;</span><span class="s1">] = </span><span class="s3">&quot;Categorical or Object&quot;</span><span class="s1"> 
<a name="l107"><span class="ln">107  </span></a>                summary_stats_dict[</span><span class="s3">&quot;ROW COUNT&quot;</span><span class="s1">] = c_record_count 
<a name="l108"><span class="ln">108  </span></a>                summary_stats_dict[</span><span class="s3">&quot;NULLS&quot;</span><span class="s1">] = c_countofnulls 
<a name="l109"><span class="ln">109  </span></a>                summary_stats_dict[</span><span class="s3">&quot;UNIQUE RECORDS&quot;</span><span class="s1">] = c_uniquerecords 
<a name="l110"><span class="ln">110  </span></a>                summary_stats_dict[</span><span class="s3">&quot;TOP VAL&quot;</span><span class="s1">] = c_topval 
<a name="l111"><span class="ln">111  </span></a>                summary_stats_dict[</span><span class="s3">&quot;TOP VAL COUNT&quot;</span><span class="s1">] = c_topval_count 
<a name="l112"><span class="ln">112  </span></a> 
<a name="l113"><span class="ln">113  </span></a>                catcol_list.append(summary_stats_dict) 
<a name="l114"><span class="ln">114  </span></a> 
<a name="l115"><span class="ln">115  </span></a>            self.cat_summary_stats_df = pd.DataFrame(catcol_list) 
<a name="l116"><span class="ln">116  </span></a>            self.cat_summary_stats_df.name = </span><span class="s3">&quot;CAT_SUMMARY_STATS&quot;</span><span class="s1"> 
<a name="l117"><span class="ln">117  </span></a> 
<a name="l118"><span class="ln">118  </span></a> 
<a name="l119"><span class="ln">119  </span></a>            </span><span class="s4">##label encoding for category columns and copied to a new df</span><span class="s1"> 
<a name="l120"><span class="ln">120  </span></a>            self.label_encoded_df=self.doLabelEncoding(df,self.eligible_for_encoding_catcols) 
<a name="l121"><span class="ln">121  </span></a>            self.label_encoded_df.name=</span><span class="s3">&quot;LABEL ENCODED DF&quot;</span><span class="s1"> 
<a name="l122"><span class="ln">122  </span></a> 
<a name="l123"><span class="ln">123  </span></a>            </span><span class="s4">##one-hot-encoding for category columns and copied to a new df</span><span class="s1"> 
<a name="l124"><span class="ln">124  </span></a>            self.one_hot_encoded_df=self.doOneHotEncoding(df,self.eligible_for_encoding_catcols) 
<a name="l125"><span class="ln">125  </span></a>            self.one_hot_encoded_df.name=</span><span class="s3">&quot;ONE-HOT ENCODED DF&quot;</span><span class="s1"> 
<a name="l126"><span class="ln">126  </span></a> 
<a name="l127"><span class="ln">127  </span></a>        </span><span class="s0">if </span><span class="s1">(len(numcols) != </span><span class="s2">0</span><span class="s1">): 
<a name="l128"><span class="ln">128  </span></a> 
<a name="l129"><span class="ln">129  </span></a>            self.initial_numerical_column_list = numcols 
<a name="l130"><span class="ln">130  </span></a> 
<a name="l131"><span class="ln">131  </span></a>            </span><span class="s0">for </span><span class="s1">i </span><span class="s0">in </span><span class="s1">numcols: 
<a name="l132"><span class="ln">132  </span></a> 
<a name="l133"><span class="ln">133  </span></a>                tmparr=df[i] 
<a name="l134"><span class="ln">134  </span></a>                recordcount=df[i].count() 
<a name="l135"><span class="ln">135  </span></a>                countofnulls = df[i].isnull().sum() 
<a name="l136"><span class="ln">136  </span></a>                uniquerecords=df[i].nunique() 
<a name="l137"><span class="ln">137  </span></a>                minvalue=df[i].min() 
<a name="l138"><span class="ln">138  </span></a>                maxvalue = df[i].max() 
<a name="l139"><span class="ln">139  </span></a> 
<a name="l140"><span class="ln">140  </span></a>                colmean=round(np.nanmean(tmparr),</span><span class="s2">3</span><span class="s1">) 
<a name="l141"><span class="ln">141  </span></a>                colmedian=round(np.median(tmparr),</span><span class="s2">3</span><span class="s1">) 
<a name="l142"><span class="ln">142  </span></a>                colmode=round(stats.mode(tmparr)[</span><span class="s2">0</span><span class="s1">][</span><span class="s2">0</span><span class="s1">],</span><span class="s2">3</span><span class="s1">) 
<a name="l143"><span class="ln">143  </span></a>                colstdev=round(df[i].std(),</span><span class="s2">3</span><span class="s1">) 
<a name="l144"><span class="ln">144  </span></a>                colskew=round(df[i].skew(),</span><span class="s2">3</span><span class="s1">) 
<a name="l145"><span class="ln">145  </span></a>                colkurt=round(df[i].kurt(),</span><span class="s2">3</span><span class="s1">) 
<a name="l146"><span class="ln">146  </span></a>                colvariance=round(np.nanvar(tmparr),</span><span class="s2">3</span><span class="s1">) 
<a name="l147"><span class="ln">147  </span></a>                colq1=round((np.percentile(tmparr,</span><span class="s2">25</span><span class="s1">)),</span><span class="s2">3</span><span class="s1">) 
<a name="l148"><span class="ln">148  </span></a>                colq3=round((np.percentile(tmparr,</span><span class="s2">75</span><span class="s1">)),</span><span class="s2">3</span><span class="s1">) 
<a name="l149"><span class="ln">149  </span></a>                coliqr=round((colq3-colq1),</span><span class="s2">3</span><span class="s1">) 
<a name="l150"><span class="ln">150  </span></a>                paddedIQR = (</span><span class="s2">1.5 </span><span class="s1">* coliqr) 
<a name="l151"><span class="ln">151  </span></a>                colupperfence = round(colq3 + paddedIQR,</span><span class="s2">3</span><span class="s1">) 
<a name="l152"><span class="ln">152  </span></a>                collowerfence=round(colq1 - paddedIQR,</span><span class="s2">3</span><span class="s1">) 
<a name="l153"><span class="ln">153  </span></a>                coloutliers = [x </span><span class="s0">for </span><span class="s1">x </span><span class="s0">in </span><span class="s1">tmparr </span><span class="s0">if </span><span class="s1">x &lt; collowerfence </span><span class="s0">or </span><span class="s1">x &gt; colupperfence] 
<a name="l154"><span class="ln">154  </span></a>                countofoutliers=len(coloutliers) 
<a name="l155"><span class="ln">155  </span></a> 
<a name="l156"><span class="ln">156  </span></a>                summary_stats_dict={} 
<a name="l157"><span class="ln">157  </span></a>                summary_stats_dict[</span><span class="s3">&quot;COLUMN&quot;</span><span class="s1">]=i 
<a name="l158"><span class="ln">158  </span></a>                summary_stats_dict[</span><span class="s3">&quot;TYPE&quot;</span><span class="s1">] = </span><span class="s3">&quot;Numeric&quot;</span><span class="s1"> 
<a name="l159"><span class="ln">159  </span></a>                summary_stats_dict[</span><span class="s3">&quot;ROW COUNT&quot;</span><span class="s1">] = recordcount 
<a name="l160"><span class="ln">160  </span></a>                summary_stats_dict[</span><span class="s3">&quot;NULLS&quot;</span><span class="s1">] = countofnulls 
<a name="l161"><span class="ln">161  </span></a>                summary_stats_dict[</span><span class="s3">&quot;UNIQUE RECORDS&quot;</span><span class="s1">] = uniquerecords 
<a name="l162"><span class="ln">162  </span></a>                summary_stats_dict[</span><span class="s3">&quot;MINIMUM&quot;</span><span class="s1">] = minvalue 
<a name="l163"><span class="ln">163  </span></a>                summary_stats_dict[</span><span class="s3">&quot;MAXIMUM&quot;</span><span class="s1">] = maxvalue 
<a name="l164"><span class="ln">164  </span></a>                summary_stats_dict[</span><span class="s3">&quot;MEAN&quot;</span><span class="s1">] = colmean 
<a name="l165"><span class="ln">165  </span></a>                summary_stats_dict[</span><span class="s3">&quot;MEDIAN&quot;</span><span class="s1">] = colmedian 
<a name="l166"><span class="ln">166  </span></a>                summary_stats_dict[</span><span class="s3">&quot;MODE&quot;</span><span class="s1">] = colmode 
<a name="l167"><span class="ln">167  </span></a>                summary_stats_dict[</span><span class="s3">&quot;STD DEVN&quot;</span><span class="s1">] = colstdev 
<a name="l168"><span class="ln">168  </span></a>                summary_stats_dict[</span><span class="s3">&quot;SKEWNESS&quot;</span><span class="s1">] = colskew 
<a name="l169"><span class="ln">169  </span></a>                summary_stats_dict[</span><span class="s3">&quot;KURTOSIS&quot;</span><span class="s1">] = colkurt 
<a name="l170"><span class="ln">170  </span></a>                summary_stats_dict[</span><span class="s3">&quot;Q1&quot;</span><span class="s1">] = colq1 
<a name="l171"><span class="ln">171  </span></a>                summary_stats_dict[</span><span class="s3">&quot;Q3&quot;</span><span class="s1">] = colq3 
<a name="l172"><span class="ln">172  </span></a>                summary_stats_dict[</span><span class="s3">&quot;IQR&quot;</span><span class="s1">] = coliqr 
<a name="l173"><span class="ln">173  </span></a>                summary_stats_dict[</span><span class="s3">&quot;UPPER FENCE&quot;</span><span class="s1">] = colupperfence 
<a name="l174"><span class="ln">174  </span></a>                summary_stats_dict[</span><span class="s3">&quot;LOWER FENCE&quot;</span><span class="s1">] = collowerfence 
<a name="l175"><span class="ln">175  </span></a>                summary_stats_dict[</span><span class="s3">&quot;OUTLIER COUNT&quot;</span><span class="s1">] = countofoutliers 
<a name="l176"><span class="ln">176  </span></a>                summary_stats_dict[</span><span class="s3">&quot;OUTLIERS&quot;</span><span class="s1">] = coloutliers 
<a name="l177"><span class="ln">177  </span></a> 
<a name="l178"><span class="ln">178  </span></a>                summary_stats_list.append(summary_stats_dict) 
<a name="l179"><span class="ln">179  </span></a> 
<a name="l180"><span class="ln">180  </span></a>            self.numeric_summary_stats_df=pd.DataFrame(summary_stats_list) 
<a name="l181"><span class="ln">181  </span></a>            self.numeric_summary_stats_df.name=</span><span class="s3">&quot;NUM_SUMMARY_STATS&quot;</span><span class="s1"> 
<a name="l182"><span class="ln">182  </span></a> 
<a name="l183"><span class="ln">183  </span></a> 
<a name="l184"><span class="ln">184  </span></a> 
<a name="l185"><span class="ln">185  </span></a> 
<a name="l186"><span class="ln">186  </span></a> 
<a name="l187"><span class="ln">187  </span></a>    </span><span class="s0">def </span><span class="s1">doLabelEncoding(self,df,eligible_for_encoding_catcols): 
<a name="l188"><span class="ln">188  </span></a>        df2 = df.copy() 
<a name="l189"><span class="ln">189  </span></a>        </span><span class="s0">for </span><span class="s1">x </span><span class="s0">in </span><span class="s1">eligible_for_encoding_catcols: 
<a name="l190"><span class="ln">190  </span></a>            df2[x] = df2[x].astype(</span><span class="s3">'category'</span><span class="s1">) 
<a name="l191"><span class="ln">191  </span></a>            newcol = x + </span><span class="s3">&quot;_encoded&quot;</span><span class="s1"> 
<a name="l192"><span class="ln">192  </span></a>            df2[newcol] = df2[x].cat.codes 
<a name="l193"><span class="ln">193  </span></a>            df2.drop(x, axis=</span><span class="s2">1</span><span class="s1">, inplace=</span><span class="s0">True</span><span class="s1">) 
<a name="l194"><span class="ln">194  </span></a> 
<a name="l195"><span class="ln">195  </span></a>        print(</span><span class="s3">&quot;Label encoded DataFrame has :</span><span class="s0">\n</span><span class="s3">&quot;</span><span class="s1">, df2.columns) 
<a name="l196"><span class="ln">196  </span></a>        </span><span class="s0">return </span><span class="s1">df2 
<a name="l197"><span class="ln">197  </span></a> 
<a name="l198"><span class="ln">198  </span></a> 
<a name="l199"><span class="ln">199  </span></a>    </span><span class="s0">def </span><span class="s1">doOneHotEncoding(self,df,eligible_for_encoding_catcols): 
<a name="l200"><span class="ln">200  </span></a>        df2 = df.copy() 
<a name="l201"><span class="ln">201  </span></a>        df2 = pd.get_dummies(df2, columns=eligible_for_encoding_catcols) 
<a name="l202"><span class="ln">202  </span></a>        </span><span class="s4">#print(&quot;One Hot Encoded DataFrame is :\n&quot;, df2)</span><span class="s1"> 
<a name="l203"><span class="ln">203  </span></a>        </span><span class="s0">return </span><span class="s1">df2 
<a name="l204"><span class="ln">204  </span></a> 
<a name="l205"><span class="ln">205  </span></a>    </span><span class="s0">def </span><span class="s1">drop_numerical_outliers(self, df2, z_thresh=</span><span class="s2">3</span><span class="s1">): 
<a name="l206"><span class="ln">206  </span></a>        </span><span class="s4"># Constrains will contain `True` or `False` depending on if it is a value below the threshold.</span><span class="s1"> 
<a name="l207"><span class="ln">207  </span></a>        print(</span><span class="s3">&quot;in drop_numerical_outliers&quot;</span><span class="s1">) 
<a name="l208"><span class="ln">208  </span></a>        df = pd.DataFrame(df2) 
<a name="l209"><span class="ln">209  </span></a>        print(</span><span class="s3">&quot;shape before &quot;</span><span class="s1">, df.shape) 
<a name="l210"><span class="ln">210  </span></a>        constrains = df.select_dtypes(include=[np.number]) \ 
<a name="l211"><span class="ln">211  </span></a>            .apply(</span><span class="s0">lambda </span><span class="s1">x: np.abs(stats.zscore(x)) &lt; z_thresh, result_type=</span><span class="s3">'reduce'</span><span class="s1">) \ 
<a name="l212"><span class="ln">212  </span></a>            .all(axis=</span><span class="s2">1</span><span class="s1">) 
<a name="l213"><span class="ln">213  </span></a>        </span><span class="s4"># Drop (inplace) values set to be rejected</span><span class="s1"> 
<a name="l214"><span class="ln">214  </span></a>        df.drop(df.index[~constrains], inplace=</span><span class="s0">True</span><span class="s1">) 
<a name="l215"><span class="ln">215  </span></a>        print(</span><span class="s3">&quot;shape after &quot;</span><span class="s1">,df.shape) 
<a name="l216"><span class="ln">216  </span></a>        </span><span class="s0">return </span><span class="s1">df 
<a name="l217"><span class="ln">217  </span></a> 
<a name="l218"><span class="ln">218  </span></a>    </span><span class="s0">def </span><span class="s1">changeNumericToCategorical(self,df,collist): 
<a name="l219"><span class="ln">219  </span></a>        </span><span class="s0">for </span><span class="s1">col </span><span class="s0">in </span><span class="s1">collist: 
<a name="l220"><span class="ln">220  </span></a>            df[col] = df[col].astype(</span><span class="s3">'category'</span><span class="s1">) 
<a name="l221"><span class="ln">221  </span></a>        </span><span class="s0">return </span><span class="s1">df 
<a name="l222"><span class="ln">222  </span></a> 
<a name="l223"><span class="ln">223  </span></a> 
<a name="l224"><span class="ln">224  </span></a>    </span><span class="s0">def </span><span class="s1">changeObjectToCategorical(self,df,collist): 
<a name="l225"><span class="ln">225  </span></a>        </span><span class="s0">for </span><span class="s1">col </span><span class="s0">in </span><span class="s1">collist: 
<a name="l226"><span class="ln">226  </span></a>            df[col] = df[col].astype(</span><span class="s3">'category'</span><span class="s1">) 
<a name="l227"><span class="ln">227  </span></a>        </span><span class="s0">return </span><span class="s1">df 
<a name="l228"><span class="ln">228  </span></a> 
<a name="l229"><span class="ln">229  </span></a> 
<a name="l230"><span class="ln">230  </span></a>    </span><span class="s0">def </span><span class="s1">getCorrelationMatrix(self,df): 
<a name="l231"><span class="ln">231  </span></a>        dfcorr = df.corr() 
<a name="l232"><span class="ln">232  </span></a>        dfcorr.name=</span><span class="s3">&quot;CORRELATION MATRIX&quot;</span><span class="s1"> 
<a name="l233"><span class="ln">233  </span></a>        plt.figure(figsize=(</span><span class="s2">12</span><span class="s1">, </span><span class="s2">10</span><span class="s1">)) 
<a name="l234"><span class="ln">234  </span></a>        sns.heatmap(dfcorr, annot=</span><span class="s0">True</span><span class="s1">, cmap=plt.cm.Reds) 
<a name="l235"><span class="ln">235  </span></a>        plt.savefig(</span><span class="s3">&quot;Correlation.pdf&quot;</span><span class="s1">) 
<a name="l236"><span class="ln">236  </span></a>        plt.show() 
<a name="l237"><span class="ln">237  </span></a>        </span><span class="s0">return </span><span class="s1">dfcorr 
<a name="l238"><span class="ln">238  </span></a> 
<a name="l239"><span class="ln">239  </span></a> 
<a name="l240"><span class="ln">240  </span></a>    </span><span class="s0">def </span><span class="s1">getInitialLinRegressionStats(self,basedf,targetcol): 
<a name="l241"><span class="ln">241  </span></a> 
<a name="l242"><span class="ln">242  </span></a>        print(</span><span class="s3">&quot;Using Linear Regression &quot;</span><span class="s1">) 
<a name="l243"><span class="ln">243  </span></a>        df=basedf.copy() 
<a name="l244"><span class="ln">244  </span></a>        df.drop(</span><span class="s3">&quot;ID&quot;</span><span class="s1">,axis=</span><span class="s2">1</span><span class="s1">,inplace=</span><span class="s0">True</span><span class="s1">) 
<a name="l245"><span class="ln">245  </span></a>        X = df.drop(targetcol, axis=</span><span class="s2">1</span><span class="s1">)  </span><span class="s4"># Feature Matrix</span><span class="s1"> 
<a name="l246"><span class="ln">246  </span></a>        print(</span><span class="s3">&quot;X is </span><span class="s0">\n</span><span class="s3">&quot;</span><span class="s1">,X.columns) 
<a name="l247"><span class="ln">247  </span></a>        y = df[targetcol] </span><span class="s4"># dependent variable</span><span class="s1"> 
<a name="l248"><span class="ln">248  </span></a>        </span><span class="s4"># create training and testing vars</span><span class="s1"> 
<a name="l249"><span class="ln">249  </span></a>        X_train, X_test, y_train, y_test = train_test_split(X, y, test_size=</span><span class="s2">0.2</span><span class="s1">,random_state=</span><span class="s2">0</span><span class="s1">) 
<a name="l250"><span class="ln">250  </span></a>        print (</span><span class="s3">&quot;X train shape : &quot;</span><span class="s1">, X_train.shape, </span><span class="s3">&quot; Y train shape :&quot;</span><span class="s1">, y_train.shape) 
<a name="l251"><span class="ln">251  </span></a>        print(</span><span class="s3">&quot;X test shape : &quot;</span><span class="s1">, X_test.shape, </span><span class="s3">&quot; Y test shape :&quot;</span><span class="s1">, y_test.shape) 
<a name="l252"><span class="ln">252  </span></a>        regressor = LinearRegression() 
<a name="l253"><span class="ln">253  </span></a>        regressor.fit(X_train, y_train)  </span><span class="s4"># training the algorithm</span><span class="s1"> 
<a name="l254"><span class="ln">254  </span></a> 
<a name="l255"><span class="ln">255  </span></a>        </span><span class="s4">#find out the features chosen by the model</span><span class="s1"> 
<a name="l256"><span class="ln">256  </span></a>        init_intercept=regressor.intercept_ 
<a name="l257"><span class="ln">257  </span></a>        init_features=regressor.coef_ 
<a name="l258"><span class="ln">258  </span></a> 
<a name="l259"><span class="ln">259  </span></a>        print(</span><span class="s3">&quot;init_intercept </span><span class="s0">\t</span><span class="s3">&quot;</span><span class="s1">, init_intercept) 
<a name="l260"><span class="ln">260  </span></a> 
<a name="l261"><span class="ln">261  </span></a>        init_chosen_features_df = pd.DataFrame(regressor.coef_, X.columns, columns=[</span><span class="s3">'Coefficient'</span><span class="s1">]) 
<a name="l262"><span class="ln">262  </span></a>        print(</span><span class="s3">&quot;Features chosen by regression model </span><span class="s0">\n</span><span class="s3">&quot;</span><span class="s1">,init_chosen_features_df) 
<a name="l263"><span class="ln">263  </span></a> 
<a name="l264"><span class="ln">264  </span></a>        y_pred = regressor.predict(X_test) 
<a name="l265"><span class="ln">265  </span></a> 
<a name="l266"><span class="ln">266  </span></a>        init_differences_df = pd.DataFrame({</span><span class="s3">'Actual'</span><span class="s1">: y_test, </span><span class="s3">'Predicted'</span><span class="s1">: y_pred}) 
<a name="l267"><span class="ln">267  </span></a>        print(</span><span class="s3">&quot;Top 25 Predicted v/s actual values for &quot;</span><span class="s1">,targetcol) 
<a name="l268"><span class="ln">268  </span></a>        print(init_differences_df.head(</span><span class="s2">25</span><span class="s1">)) 
<a name="l269"><span class="ln">269  </span></a> 
<a name="l270"><span class="ln">270  </span></a>        init_rsq=metrics.r2_score(y_test,y_pred) 
<a name="l271"><span class="ln">271  </span></a>        init_mae=metrics.mean_absolute_error(y_test, y_pred) 
<a name="l272"><span class="ln">272  </span></a>        init_mse=metrics.mean_squared_error(y_test, y_pred) 
<a name="l273"><span class="ln">273  </span></a>        init_rmse=np.sqrt(metrics.mean_squared_error(y_test, y_pred)) 
<a name="l274"><span class="ln">274  </span></a> 
<a name="l275"><span class="ln">275  </span></a>        init_Lin_Reg_stats_keys = [</span><span class="s3">&quot;INIT LINREG R-SQUARED&quot;</span><span class="s1">, \ 
<a name="l276"><span class="ln">276  </span></a>                                   </span><span class="s3">&quot;INIT LINREG M-A-E&quot;</span><span class="s1">, \ 
<a name="l277"><span class="ln">277  </span></a>                                   </span><span class="s3">&quot;INIT LINREG M-S-E&quot;</span><span class="s1">, \ 
<a name="l278"><span class="ln">278  </span></a>                                   </span><span class="s3">&quot;INIT LINREG RMSE&quot;</span><span class="s1">] 
<a name="l279"><span class="ln">279  </span></a>        init_Lin_Reg_stats_vals = [init_rsq, \ 
<a name="l280"><span class="ln">280  </span></a>                                   init_mae, \ 
<a name="l281"><span class="ln">281  </span></a>                                   init_mse, \ 
<a name="l282"><span class="ln">282  </span></a>                                   init_rmse] 
<a name="l283"><span class="ln">283  </span></a> 
<a name="l284"><span class="ln">284  </span></a>        self.init_lin_reg_stats_df = pd.Series(init_Lin_Reg_stats_vals, init_Lin_Reg_stats_keys) 
<a name="l285"><span class="ln">285  </span></a>        self.init_lin_reg_stats_df.name = </span><span class="s3">&quot;INITIAL LIN_REG STATS&quot;</span><span class="s1"> 
<a name="l286"><span class="ln">286  </span></a> 
<a name="l287"><span class="ln">287  </span></a>        print(self.init_lin_reg_stats_df) 
<a name="l288"><span class="ln">288  </span></a>        </span><span class="s0">return </span><span class="s1">self.init_lin_reg_stats_df 
<a name="l289"><span class="ln">289  </span></a> 
<a name="l290"><span class="ln">290  </span></a> 
<a name="l291"><span class="ln">291  </span></a>    </span><span class="s0">def </span><span class="s1">getInitialLogRegressionStats(self, basedf, targetcol): 
<a name="l292"><span class="ln">292  </span></a> 
<a name="l293"><span class="ln">293  </span></a>        print(</span><span class="s3">&quot;Using  Logistic Regression &quot;</span><span class="s1">) 
<a name="l294"><span class="ln">294  </span></a>        test_size_percent = </span><span class="s2">0.3</span><span class="s1"> 
<a name="l295"><span class="ln">295  </span></a> 
<a name="l296"><span class="ln">296  </span></a>        df = basedf.copy() 
<a name="l297"><span class="ln">297  </span></a>        df.drop(</span><span class="s3">&quot;ID&quot;</span><span class="s1">, axis=</span><span class="s2">1</span><span class="s1">, inplace=</span><span class="s0">True</span><span class="s1">) 
<a name="l298"><span class="ln">298  </span></a>        X = df.drop(targetcol, axis=</span><span class="s2">1</span><span class="s1">)  </span><span class="s4"># Feature Matrix</span><span class="s1"> 
<a name="l299"><span class="ln">299  </span></a>        print(</span><span class="s3">&quot;X is </span><span class="s0">\n</span><span class="s3">&quot;</span><span class="s1">, X.columns) 
<a name="l300"><span class="ln">300  </span></a>        y = df[targetcol]  </span><span class="s4"># dependent variable</span><span class="s1"> 
<a name="l301"><span class="ln">301  </span></a>        </span><span class="s4"># create training and testing vars</span><span class="s1"> 
<a name="l302"><span class="ln">302  </span></a>        X_train, X_test, y_train, y_test = train_test_split(X, y, test_size=test_size_percent, random_state=</span><span class="s2">0</span><span class="s1">) 
<a name="l303"><span class="ln">303  </span></a>        print(</span><span class="s3">&quot;X train shape : &quot;</span><span class="s1">, X_train.shape, </span><span class="s3">&quot; Y train shape :&quot;</span><span class="s1">, y_train.shape) 
<a name="l304"><span class="ln">304  </span></a>        print(</span><span class="s3">&quot;X test shape : &quot;</span><span class="s1">, X_test.shape, </span><span class="s3">&quot; Y test shape :&quot;</span><span class="s1">, y_test.shape) 
<a name="l305"><span class="ln">305  </span></a>        logreg = LogisticRegression() 
<a name="l306"><span class="ln">306  </span></a>        logreg.fit(X_train, y_train)  </span><span class="s4"># training the algorithm</span><span class="s1"> 
<a name="l307"><span class="ln">307  </span></a>        y_pred = logreg.predict(X_test) 
<a name="l308"><span class="ln">308  </span></a>        cnf_matrix = metrics.confusion_matrix(y_test, y_pred) 
<a name="l309"><span class="ln">309  </span></a>        print(</span><span class="s3">&quot;Confusion matrix :</span><span class="s0">\n</span><span class="s3">&quot;</span><span class="s1">,cnf_matrix) 
<a name="l310"><span class="ln">310  </span></a>        init_logreg_accuracy=metrics.accuracy_score(y_test, y_pred) 
<a name="l311"><span class="ln">311  </span></a>        init_logreg_precision = metrics.precision_score(y_test, y_pred) 
<a name="l312"><span class="ln">312  </span></a>        init_logreg_recall = metrics.recall_score(y_test, y_pred) 
<a name="l313"><span class="ln">313  </span></a>        init_logreg_logloss=metrics.log_loss(y_test,y_pred) 
<a name="l314"><span class="ln">314  </span></a> 
<a name="l315"><span class="ln">315  </span></a>        init_Log_Reg_stats_keys = [</span><span class="s3">&quot;TEST DATA RATIO&quot;</span><span class="s1">,</span><span class="s3">&quot;INIT LOGREG ACCURACY&quot;</span><span class="s1">, \ 
<a name="l316"><span class="ln">316  </span></a>                                  </span><span class="s3">&quot;INIT LOGREG PRECISION&quot;</span><span class="s1">, \ 
<a name="l317"><span class="ln">317  </span></a>                                  </span><span class="s3">&quot;INIT LOGREG RECALL&quot;</span><span class="s1">, \ 
<a name="l318"><span class="ln">318  </span></a>                                  </span><span class="s3">&quot;INIT LOGREG LOGLOSS&quot;</span><span class="s1">] 
<a name="l319"><span class="ln">319  </span></a>        init_Log_Reg_stats_vals = [ test_size_percent,init_logreg_accuracy, \ 
<a name="l320"><span class="ln">320  </span></a>                                   init_logreg_precision, \ 
<a name="l321"><span class="ln">321  </span></a>                                   init_logreg_recall, \ 
<a name="l322"><span class="ln">322  </span></a>                                   init_logreg_logloss] 
<a name="l323"><span class="ln">323  </span></a> 
<a name="l324"><span class="ln">324  </span></a>        self.init_log_reg_stats_df = pd.Series(init_Log_Reg_stats_vals,init_Log_Reg_stats_keys) 
<a name="l325"><span class="ln">325  </span></a>        self.init_log_reg_stats_df.name = </span><span class="s3">&quot;INITIAL LOG REG STATS&quot;</span><span class="s1"> 
<a name="l326"><span class="ln">326  </span></a>        print(self.init_log_reg_stats_df) 
<a name="l327"><span class="ln">327  </span></a>        </span><span class="s0">return </span><span class="s1">self.init_log_reg_stats_df 
<a name="l328"><span class="ln">328  </span></a> 
<a name="l329"><span class="ln">329  </span></a> 
<a name="l330"><span class="ln">330  </span></a>    </span><span class="s0">def </span><span class="s1">getInitialTestLogRegressionStats(self, basedf, targetcol,testdf): 
<a name="l331"><span class="ln">331  </span></a> 
<a name="l332"><span class="ln">332  </span></a>        print(</span><span class="s3">&quot;Using Actual Test File Data SK Learn Logistic Regression &quot;</span><span class="s1">) 
<a name="l333"><span class="ln">333  </span></a>        test_size_percent = </span><span class="s2">0.3</span><span class="s1"> 
<a name="l334"><span class="ln">334  </span></a> 
<a name="l335"><span class="ln">335  </span></a>        df = basedf.copy() 
<a name="l336"><span class="ln">336  </span></a>        df.drop(</span><span class="s3">&quot;ID&quot;</span><span class="s1">, axis=</span><span class="s2">1</span><span class="s1">, inplace=</span><span class="s0">True</span><span class="s1">) 
<a name="l337"><span class="ln">337  </span></a>        X = df.drop(targetcol, axis=</span><span class="s2">1</span><span class="s1">)  </span><span class="s4"># Feature Matrix</span><span class="s1"> 
<a name="l338"><span class="ln">338  </span></a>        print(</span><span class="s3">&quot;X is </span><span class="s0">\n</span><span class="s3">&quot;</span><span class="s1">, X.columns) 
<a name="l339"><span class="ln">339  </span></a>        y = df[targetcol]  </span><span class="s4"># dependent variable</span><span class="s1"> 
<a name="l340"><span class="ln">340  </span></a> 
<a name="l341"><span class="ln">341  </span></a>        X_actual_testdata_1 = testdf.copy() 
<a name="l342"><span class="ln">342  </span></a>        print(</span><span class="s3">&quot;actual X test data shape : &quot;</span><span class="s1">,X_actual_testdata_1.shape) 
<a name="l343"><span class="ln">343  </span></a>        X_actual_testdata_2 = self.doLabelEncoding(X_actual_testdata_1, self.eligible_for_encoding_catcols) 
<a name="l344"><span class="ln">344  </span></a>        X_actual_testdata_3 = X_actual_testdata_2.drop_duplicates() 
<a name="l345"><span class="ln">345  </span></a>        X_actual_testdata_4 = X_actual_testdata_3.drop([</span><span class="s3">&quot;ID&quot;</span><span class="s1">], axis=</span><span class="s2">1</span><span class="s1">) 
<a name="l346"><span class="ln">346  </span></a> 
<a name="l347"><span class="ln">347  </span></a>        print(</span><span class="s3">&quot;X actual_testdata4 shape : &quot;</span><span class="s1">, X_actual_testdata_4.shape) 
<a name="l348"><span class="ln">348  </span></a>        print(</span><span class="s3">&quot;X actual_testdata4 columns : &quot;</span><span class="s1">, X_actual_testdata_4.columns) 
<a name="l349"><span class="ln">349  </span></a>        print (</span><span class="s3">&quot;X ids :&quot;</span><span class="s1">,X_actual_testdata_3[</span><span class="s3">&quot;ID&quot;</span><span class="s1">]) 
<a name="l350"><span class="ln">350  </span></a> 
<a name="l351"><span class="ln">351  </span></a>        </span><span class="s4"># create training and testing vars</span><span class="s1"> 
<a name="l352"><span class="ln">352  </span></a>        X_train, X_test, y_train, y_test = train_test_split(X, y, test_size=test_size_percent, random_state=</span><span class="s2">0</span><span class="s1">) 
<a name="l353"><span class="ln">353  </span></a>        print(</span><span class="s3">&quot;X train shape : &quot;</span><span class="s1">, X_train.shape, </span><span class="s3">&quot; Y train shape :&quot;</span><span class="s1">, y_train.shape) 
<a name="l354"><span class="ln">354  </span></a>        print(</span><span class="s3">&quot;X test shape : &quot;</span><span class="s1">, X_test.shape, </span><span class="s3">&quot; Y test shape :&quot;</span><span class="s1">, y_test.shape) 
<a name="l355"><span class="ln">355  </span></a>        logreg = LogisticRegression() 
<a name="l356"><span class="ln">356  </span></a>        logreg.fit(X_train, y_train)  </span><span class="s4"># training the algorithm</span><span class="s1"> 
<a name="l357"><span class="ln">357  </span></a> 
<a name="l358"><span class="ln">358  </span></a>        </span><span class="s4"># Drop duplicates in both dataframes and then do an inner join to get common records</span><span class="s1"> 
<a name="l359"><span class="ln">359  </span></a>        </span><span class="s4"># this is because test file has much lesser records than train files</span><span class="s1"> 
<a name="l360"><span class="ln">360  </span></a>        df_tmp_1=basedf.drop_duplicates() 
<a name="l361"><span class="ln">361  </span></a>        y_test_new_df = df_tmp_1.loc[df_tmp_1[</span><span class="s3">'ID'</span><span class="s1">].isin(X_actual_testdata_3[</span><span class="s3">&quot;ID&quot;</span><span class="s1">])] 
<a name="l362"><span class="ln">362  </span></a>        print(</span><span class="s3">&quot;y test new df is </span><span class="s0">\n</span><span class="s3">&quot;</span><span class="s1">, y_test_new_df.shape) 
<a name="l363"><span class="ln">363  </span></a>        y_test_new = y_test_new_df[</span><span class="s3">&quot;Claim&quot;</span><span class="s1">] 
<a name="l364"><span class="ln">364  </span></a> 
<a name="l365"><span class="ln">365  </span></a>        print(</span><span class="s3">&quot;Y TEST NEW SHAPE = </span><span class="s0">\n</span><span class="s3">&quot;</span><span class="s1">,y_test_new.shape) 
<a name="l366"><span class="ln">366  </span></a> 
<a name="l367"><span class="ln">367  </span></a>        </span><span class="s4"># Now predict based on actual test file values ( not test % of train file )</span><span class="s1"> 
<a name="l368"><span class="ln">368  </span></a> 
<a name="l369"><span class="ln">369  </span></a>        y_pred = logreg.predict(X_actual_testdata_4) 
<a name="l370"><span class="ln">370  </span></a>        print(</span><span class="s3">&quot;Y PRED VALUES </span><span class="s0">\n</span><span class="s3">&quot;</span><span class="s1">,y_pred) 
<a name="l371"><span class="ln">371  </span></a> 
<a name="l372"><span class="ln">372  </span></a>        self.init_actual_test_log_reg_stats_df.name = </span><span class="s3">&quot;INIT ACT TEST LOG REG STATS&quot;</span><span class="s1"> 
<a name="l373"><span class="ln">373  </span></a>        </span><span class="s0">return </span><span class="s1">self.init_actual_test_log_reg_stats_df 
<a name="l374"><span class="ln">374  </span></a> 
<a name="l375"><span class="ln">375  </span></a> 
<a name="l376"><span class="ln">376  </span></a> 
<a name="l377"><span class="ln">377  </span></a>    </span><span class="s0">def </span><span class="s1">getInitialRandomForestStats(self, basedf, targetcol): 
<a name="l378"><span class="ln">378  </span></a> 
<a name="l379"><span class="ln">379  </span></a>        print(</span><span class="s3">&quot;Using  Random Forest Classifier&quot;</span><span class="s1">) 
<a name="l380"><span class="ln">380  </span></a> 
<a name="l381"><span class="ln">381  </span></a>        test_size_percent = </span><span class="s2">0.3</span><span class="s1"> 
<a name="l382"><span class="ln">382  </span></a>        estimators = </span><span class="s2">100</span><span class="s1"> 
<a name="l383"><span class="ln">383  </span></a>        depth = </span><span class="s2">2</span><span class="s1"> 
<a name="l384"><span class="ln">384  </span></a> 
<a name="l385"><span class="ln">385  </span></a>        df = basedf.copy() 
<a name="l386"><span class="ln">386  </span></a>        df.drop(</span><span class="s3">&quot;ID&quot;</span><span class="s1">, axis=</span><span class="s2">1</span><span class="s1">, inplace=</span><span class="s0">True</span><span class="s1">) 
<a name="l387"><span class="ln">387  </span></a>        X = df.drop(targetcol, axis=</span><span class="s2">1</span><span class="s1">)  </span><span class="s4"># Feature Matrix</span><span class="s1"> 
<a name="l388"><span class="ln">388  </span></a>        print(</span><span class="s3">&quot;X is </span><span class="s0">\n</span><span class="s3">&quot;</span><span class="s1">, X.columns) 
<a name="l389"><span class="ln">389  </span></a>        y = df[targetcol]  </span><span class="s4"># dependent variable</span><span class="s1"> 
<a name="l390"><span class="ln">390  </span></a>        </span><span class="s4"># create training and testing vars</span><span class="s1"> 
<a name="l391"><span class="ln">391  </span></a> 
<a name="l392"><span class="ln">392  </span></a>        X_train, X_test, y_train, y_test = train_test_split(X, y, test_size=test_size_percent, random_state=</span><span class="s2">0</span><span class="s1">) 
<a name="l393"><span class="ln">393  </span></a>        print(</span><span class="s3">&quot;X train shape : &quot;</span><span class="s1">, X_train.shape, </span><span class="s3">&quot; Y train shape :&quot;</span><span class="s1">, y_train.shape) 
<a name="l394"><span class="ln">394  </span></a>        print(</span><span class="s3">&quot;X test shape : &quot;</span><span class="s1">, X_test.shape, </span><span class="s3">&quot; Y test shape :&quot;</span><span class="s1">, y_test.shape) 
<a name="l395"><span class="ln">395  </span></a> 
<a name="l396"><span class="ln">396  </span></a>        feature_list = list(X.columns) 
<a name="l397"><span class="ln">397  </span></a>        clf = RandomForestClassifier(n_estimators=estimators, max_depth=depth,random_state=</span><span class="s2">0</span><span class="s1">) 
<a name="l398"><span class="ln">398  </span></a>        clf.fit(X_train, y_train)  </span><span class="s4"># training the algorithm</span><span class="s1"> 
<a name="l399"><span class="ln">399  </span></a>        y_pred = clf.predict(X_test) 
<a name="l400"><span class="ln">400  </span></a> 
<a name="l401"><span class="ln">401  </span></a>        cnf_matrix = metrics.confusion_matrix(y_test, y_pred) 
<a name="l402"><span class="ln">402  </span></a>        print(</span><span class="s3">&quot;Confusion matrix :</span><span class="s0">\n</span><span class="s3">&quot;</span><span class="s1">,cnf_matrix) 
<a name="l403"><span class="ln">403  </span></a>        init_rnd_for_cls_accuracy=metrics.accuracy_score(y_test, y_pred) 
<a name="l404"><span class="ln">404  </span></a>        init_rnd_for_cls_precision = metrics.precision_score(y_test, y_pred) 
<a name="l405"><span class="ln">405  </span></a>        init_rnd_for_cls_recall = metrics.recall_score(y_test, y_pred) 
<a name="l406"><span class="ln">406  </span></a>        init_rnd_for_cls_logloss=metrics.log_loss(y_test,y_pred) 
<a name="l407"><span class="ln">407  </span></a> 
<a name="l408"><span class="ln">408  </span></a>        init_rf_feature_imp = pd.Series(clf.feature_importances_, index=feature_list).sort_values(ascending=</span><span class="s0">False</span><span class="s1">) 
<a name="l409"><span class="ln">409  </span></a>        self.init_rnd_for_cls_feature_imp_df=pd.DataFrame(init_rf_feature_imp) 
<a name="l410"><span class="ln">410  </span></a>        self.init_rnd_for_cls_feature_imp_df.name=</span><span class="s3">&quot;INIT_RND_FRST_IMP_FEATURES&quot;</span><span class="s1"> 
<a name="l411"><span class="ln">411  </span></a>        print(self.init_rnd_for_cls_feature_imp_df) 
<a name="l412"><span class="ln">412  </span></a> 
<a name="l413"><span class="ln">413  </span></a>        sns.barplot(x=init_rf_feature_imp, y=init_rf_feature_imp.index) 
<a name="l414"><span class="ln">414  </span></a>        </span><span class="s4"># Add labels to your graph</span><span class="s1"> 
<a name="l415"><span class="ln">415  </span></a>        plt.xlabel(</span><span class="s3">'Feature Importance Score'</span><span class="s1">) 
<a name="l416"><span class="ln">416  </span></a>        plt.ylabel(</span><span class="s3">'Features'</span><span class="s1">) 
<a name="l417"><span class="ln">417  </span></a>        plt.title(</span><span class="s3">&quot;Visualizing Important Features - Random Forest&quot;</span><span class="s1">) 
<a name="l418"><span class="ln">418  </span></a>        plt.legend() 
<a name="l419"><span class="ln">419  </span></a>        plt.savefig(</span><span class="s3">&quot;RandomForestImportantFeatures_Baseline.pdf&quot;</span><span class="s1">) 
<a name="l420"><span class="ln">420  </span></a>        plt.show() 
<a name="l421"><span class="ln">421  </span></a> 
<a name="l422"><span class="ln">422  </span></a>        init_RF_CLS_stats_keys=[</span><span class="s3">&quot;TEST DATA RATIO&quot;</span><span class="s1">,</span><span class="s3">&quot;ESTIMATORS&quot;</span><span class="s1">,</span><span class="s3">&quot;DEPTH&quot;</span><span class="s1">,\ 
<a name="l423"><span class="ln">423  </span></a>                                </span><span class="s3">&quot;I_RNDM FRST CLASSIF ACCURACY&quot;</span><span class="s1">,\ 
<a name="l424"><span class="ln">424  </span></a>                                </span><span class="s3">&quot;I_RNDM FRST CLASSIF PRECISION&quot;</span><span class="s1">,\ 
<a name="l425"><span class="ln">425  </span></a>                                </span><span class="s3">&quot;I_RNDM FRST CLASSIF RECALL&quot;</span><span class="s1">,\ 
<a name="l426"><span class="ln">426  </span></a>                                </span><span class="s3">&quot;I_RNDM FRST CLASSIF LOGLOSS&quot;</span><span class="s1">] 
<a name="l427"><span class="ln">427  </span></a>        init_RF_CLS_stats_vals=[test_size_percent,estimators,depth,\ 
<a name="l428"><span class="ln">428  </span></a>                                init_rnd_for_cls_accuracy, \ 
<a name="l429"><span class="ln">429  </span></a>                                init_rnd_for_cls_precision, \ 
<a name="l430"><span class="ln">430  </span></a>                                init_rnd_for_cls_recall, \ 
<a name="l431"><span class="ln">431  </span></a>                                init_rnd_for_cls_logloss] 
<a name="l432"><span class="ln">432  </span></a> 
<a name="l433"><span class="ln">433  </span></a>        self.init_rnd_for_cls_stats_df = pd.Series(init_RF_CLS_stats_vals,init_RF_CLS_stats_keys ) 
<a name="l434"><span class="ln">434  </span></a>        self.init_rnd_for_cls_stats_df.name = </span><span class="s3">&quot;INIT RNDM FRST CLSF STATS&quot;</span><span class="s1"> 
<a name="l435"><span class="ln">435  </span></a>        print(self.init_rnd_for_cls_stats_df) 
<a name="l436"><span class="ln">436  </span></a>        </span><span class="s0">return </span><span class="s1">self.init_rnd_for_cls_stats_df 
<a name="l437"><span class="ln">437  </span></a> 
<a name="l438"><span class="ln">438  </span></a> 
<a name="l439"><span class="ln">439  </span></a> 
<a name="l440"><span class="ln">440  </span></a> 
<a name="l441"><span class="ln">441  </span></a>    </span><span class="s0">def </span><span class="s1">getFeaturesAndRankingsUsingRFEandLinearRegression(self,basedf,targetcol): 
<a name="l442"><span class="ln">442  </span></a>        df = basedf.copy() 
<a name="l443"><span class="ln">443  </span></a>        X = df.drop(targetcol, axis=</span><span class="s2">1</span><span class="s1">)  </span><span class="s4"># Feature Matrix</span><span class="s1"> 
<a name="l444"><span class="ln">444  </span></a>        y = df[targetcol]  </span><span class="s4"># dependent variable</span><span class="s1"> 
<a name="l445"><span class="ln">445  </span></a>        regressor = LinearRegression() 
<a name="l446"><span class="ln">446  </span></a>        </span><span class="s4"># rank all features, i.e continue the elimination until the last one</span><span class="s1"> 
<a name="l447"><span class="ln">447  </span></a>        rfe = RFE(regressor, n_features_to_select=</span><span class="s2">5</span><span class="s1">) 
<a name="l448"><span class="ln">448  </span></a>        rfe.fit(X, y) 
<a name="l449"><span class="ln">449  </span></a>        featurecols=list(X.columns) 
<a name="l450"><span class="ln">450  </span></a>        rfefeatures=rfe.n_features_ 
<a name="l451"><span class="ln">451  </span></a>        rfesupport=rfe.support_ 
<a name="l452"><span class="ln">452  </span></a>        rferanking=rfe.ranking_ 
<a name="l453"><span class="ln">453  </span></a>        rferesults = list(zip(featurecols, rferanking, rfesupport)) 
<a name="l454"><span class="ln">454  </span></a>        self.init_rfe_lin_reg_df=pd.DataFrame(rferesults) 
<a name="l455"><span class="ln">455  </span></a>        self.init_rfe_lin_reg_df.name=</span><span class="s3">&quot;INIT RFE LIN REG&quot;</span><span class="s1"> 
<a name="l456"><span class="ln">456  </span></a>        print(</span><span class="s3">&quot;RFE Results  using Linear Regression : </span><span class="s0">\n</span><span class="s3">&quot;</span><span class="s1">, self.init_rfe_lin_reg_df) 
<a name="l457"><span class="ln">457  </span></a>        </span><span class="s0">return </span><span class="s1">self.init_rfe_lin_reg_df 
<a name="l458"><span class="ln">458  </span></a> 
<a name="l459"><span class="ln">459  </span></a> 
<a name="l460"><span class="ln">460  </span></a>    </span><span class="s0">def </span><span class="s1">getFeaturesAndRankingsUsingRFEandLogisticRegression(self,basedf,targetcol): 
<a name="l461"><span class="ln">461  </span></a>        df = basedf.copy() 
<a name="l462"><span class="ln">462  </span></a>        X = df.drop(targetcol, axis=</span><span class="s2">1</span><span class="s1">)  </span><span class="s4"># Feature Matrix</span><span class="s1"> 
<a name="l463"><span class="ln">463  </span></a>        y = df[targetcol]  </span><span class="s4"># dependent variable</span><span class="s1"> 
<a name="l464"><span class="ln">464  </span></a>        regressor = LogisticRegression(solver=</span><span class="s3">'lbfgs'</span><span class="s1">,max_iter=</span><span class="s2">900</span><span class="s1">) 
<a name="l465"><span class="ln">465  </span></a>        </span><span class="s4"># rank all features, i.e continue the elimination until the last one</span><span class="s1"> 
<a name="l466"><span class="ln">466  </span></a>        rfe = RFE(regressor, n_features_to_select=</span><span class="s2">5</span><span class="s1">) 
<a name="l467"><span class="ln">467  </span></a>        rfe.fit(X, y) 
<a name="l468"><span class="ln">468  </span></a>        featurecols=list(X.columns) 
<a name="l469"><span class="ln">469  </span></a>        rfefeatures=rfe.n_features_ 
<a name="l470"><span class="ln">470  </span></a>        rfesupport=rfe.support_ 
<a name="l471"><span class="ln">471  </span></a>        rferanking=rfe.ranking_ 
<a name="l472"><span class="ln">472  </span></a>        rferesults = list(zip(featurecols, rferanking, rfesupport)) 
<a name="l473"><span class="ln">473  </span></a>        self.init_rfe_log_reg_df = pd.DataFrame(rferesults) 
<a name="l474"><span class="ln">474  </span></a>        self.init_rfe_log_reg_df.name = </span><span class="s3">&quot;INIT RFE LOG REG&quot;</span><span class="s1"> 
<a name="l475"><span class="ln">475  </span></a>        print(</span><span class="s3">&quot;RFE Results using Logistic Regression : </span><span class="s0">\n</span><span class="s3">&quot;</span><span class="s1">, self.init_rfe_log_reg_df) 
<a name="l476"><span class="ln">476  </span></a>        </span><span class="s0">return </span><span class="s1">self.init_rfe_log_reg_df 
<a name="l477"><span class="ln">477  </span></a> 
<a name="l478"><span class="ln">478  </span></a> 
<a name="l479"><span class="ln">479  </span></a>    </span><span class="s0">def </span><span class="s1">drawWaffleChart(self,df,colname): 
<a name="l480"><span class="ln">480  </span></a>        print(</span><span class="s3">&quot;in drawWaffleChart :</span><span class="s0">\t</span><span class="s3">&quot;</span><span class="s1">,colname) 
<a name="l481"><span class="ln">481  </span></a>        calculated=df[colname].value_counts() 
<a name="l482"><span class="ln">482  </span></a>        print(calculated) 
<a name="l483"><span class="ln">483  </span></a>        fig = plt.figure( 
<a name="l484"><span class="ln">484  </span></a>            FigureClass=Waffle, 
<a name="l485"><span class="ln">485  </span></a>            rows=</span><span class="s2">5</span><span class="s1">, 
<a name="l486"><span class="ln">486  </span></a>            values=list(calculated.values), 
<a name="l487"><span class="ln">487  </span></a>            labels=list(calculated.index) 
<a name="l488"><span class="ln">488  </span></a>        ) 
<a name="l489"><span class="ln">489  </span></a>        plt.show() 
<a name="l490"><span class="ln">490  </span></a> 
<a name="l491"><span class="ln">491  </span></a>    </span><span class="s0">def </span><span class="s1">drawPie(self,column,chartname): 
<a name="l492"><span class="ln">492  </span></a>        </span><span class="s4">''' 
<a name="l493"><span class="ln">493  </span></a>        To be used ideally only for categorical data , i.e &lt; 10 distinct values 
<a name="l494"><span class="ln">494  </span></a>        :param nparr: numpy array column 
<a name="l495"><span class="ln">495  </span></a>        :return: none 
<a name="l496"><span class="ln">496  </span></a>        '''</span><span class="s1"> 
<a name="l497"><span class="ln">497  </span></a>        nparr = np.array(column) 
<a name="l498"><span class="ln">498  </span></a>        uniqueValues, occurCount = np.unique(nparr, return_counts=</span><span class="s0">True</span><span class="s1">) 
<a name="l499"><span class="ln">499  </span></a>        uniqueCount = len(uniqueValues) 
<a name="l500"><span class="ln">500  </span></a>        totalCount = np.sum(occurCount) 
<a name="l501"><span class="ln">501  </span></a>        print(</span><span class="s3">&quot;Drawing a pie chart &quot;</span><span class="s1">) 
<a name="l502"><span class="ln">502  </span></a>        print(</span><span class="s3">&quot;Unique Values : &quot;</span><span class="s1">, uniqueValues) 
<a name="l503"><span class="ln">503  </span></a>        print(</span><span class="s3">&quot;Occurrence Count : &quot;</span><span class="s1">, occurCount) 
<a name="l504"><span class="ln">504  </span></a>        print(</span><span class="s3">&quot;Total count :&quot;</span><span class="s1">, totalCount) 
<a name="l505"><span class="ln">505  </span></a>        chartfilename=chartname+</span><span class="s3">&quot;.pdf&quot;</span><span class="s1"> 
<a name="l506"><span class="ln">506  </span></a>        </span><span class="s4"># print (&quot;# of unique values :&quot;,len(uniqueValues))</span><span class="s1"> 
<a name="l507"><span class="ln">507  </span></a> 
<a name="l508"><span class="ln">508  </span></a>        </span><span class="s0">if </span><span class="s1">(uniqueCount &gt;= </span><span class="s2">10</span><span class="s1">): 
<a name="l509"><span class="ln">509  </span></a>            print(</span><span class="s3">&quot; Too many values : not suited for pie chart &quot;</span><span class="s1">) 
<a name="l510"><span class="ln">510  </span></a>        </span><span class="s0">else</span><span class="s1">: 
<a name="l511"><span class="ln">511  </span></a>            labels = uniqueValues 
<a name="l512"><span class="ln">512  </span></a>            sizes = occurCount 
<a name="l513"><span class="ln">513  </span></a> 
<a name="l514"><span class="ln">514  </span></a>            explode = (</span><span class="s2">0</span><span class="s1">, </span><span class="s2">0.1</span><span class="s1">, </span><span class="s2">0</span><span class="s1">, </span><span class="s2">0</span><span class="s1">, </span><span class="s2">0</span><span class="s1">)  </span><span class="s4"># only &quot;explode&quot; the 2nd slice (i.e. 'Hogs')</span><span class="s1"> 
<a name="l515"><span class="ln">515  </span></a>            fig1, ax1 = plt.subplots() 
<a name="l516"><span class="ln">516  </span></a>            ax1.pie(sizes, explode=explode, labels=labels, autopct=</span><span class="s3">'%1.1f%%'</span><span class="s1">, 
<a name="l517"><span class="ln">517  </span></a>                    shadow=</span><span class="s0">True</span><span class="s1">, startangle=</span><span class="s2">90</span><span class="s1">) 
<a name="l518"><span class="ln">518  </span></a>            ax1.axis(</span><span class="s3">'equal'</span><span class="s1">)  </span><span class="s4"># Equal aspect ratio ensures that pie is drawn as a circle.</span><span class="s1"> 
<a name="l519"><span class="ln">519  </span></a>            plt.savefig(chartfilename) 
<a name="l520"><span class="ln">520  </span></a>            plt.show() 
<a name="l521"><span class="ln">521  </span></a> 
<a name="l522"><span class="ln">522  </span></a> 
<a name="l523"><span class="ln">523  </span></a>    </span><span class="s0">def </span><span class="s1">drawBarChart(self, column, chartName, xlabel, ylabel): 
<a name="l524"><span class="ln">524  </span></a>        nparr = np.array(column) 
<a name="l525"><span class="ln">525  </span></a>        uniqueValues, occurCount = np.unique(nparr, return_counts=</span><span class="s0">True</span><span class="s1">) 
<a name="l526"><span class="ln">526  </span></a>        uniqueCount = len(uniqueValues) 
<a name="l527"><span class="ln">527  </span></a>        totalCount = np.sum(occurCount) 
<a name="l528"><span class="ln">528  </span></a>        chartfilename = chartName + </span><span class="s3">&quot;.pdf&quot;</span><span class="s1"> 
<a name="l529"><span class="ln">529  </span></a>        print(</span><span class="s3">&quot;Drawing a bar chart &quot;</span><span class="s1">) 
<a name="l530"><span class="ln">530  </span></a>        print(</span><span class="s3">&quot;Unique Values : &quot;</span><span class="s1">, uniqueValues) 
<a name="l531"><span class="ln">531  </span></a>        print(</span><span class="s3">&quot;Occurrence Count : &quot;</span><span class="s1">, occurCount) 
<a name="l532"><span class="ln">532  </span></a>        print(</span><span class="s3">&quot;Total count :&quot;</span><span class="s1">, totalCount) 
<a name="l533"><span class="ln">533  </span></a>        print(</span><span class="s3">&quot;# of unique values :&quot;</span><span class="s1">, uniqueCount) 
<a name="l534"><span class="ln">534  </span></a>        figureObject, axesObject = plt.subplots() 
<a name="l535"><span class="ln">535  </span></a>        categories = np.arange(uniqueCount) 
<a name="l536"><span class="ln">536  </span></a> 
<a name="l537"><span class="ln">537  </span></a>        </span><span class="s4"># Customize bar properties</span><span class="s1"> 
<a name="l538"><span class="ln">538  </span></a>        barWidth = </span><span class="s2">0.4</span><span class="s1"> 
<a name="l539"><span class="ln">539  </span></a>        barOpacity = </span><span class="s2">0.5</span><span class="s1"> 
<a name="l540"><span class="ln">540  </span></a>        errorConfig = {</span><span class="s3">'ecolor'</span><span class="s1">: </span><span class="s3">'0.2'</span><span class="s1">} 
<a name="l541"><span class="ln">541  </span></a> 
<a name="l542"><span class="ln">542  </span></a>        barChart = plt.bar(categories, occurCount, barWidth, alpha=barOpacity, 
<a name="l543"><span class="ln">543  </span></a>                           color=</span><span class="s3">'blue'</span><span class="s1">, label=chartName) 
<a name="l544"><span class="ln">544  </span></a> 
<a name="l545"><span class="ln">545  </span></a>        plt.xlabel(xlabel) 
<a name="l546"><span class="ln">546  </span></a>        plt.ylabel(ylabel) 
<a name="l547"><span class="ln">547  </span></a>        plt.title(chartName) 
<a name="l548"><span class="ln">548  </span></a>        plt.xticks(categories, uniqueValues) 
<a name="l549"><span class="ln">549  </span></a>        plt.legend() 
<a name="l550"><span class="ln">550  </span></a> 
<a name="l551"><span class="ln">551  </span></a>        plt.tight_layout() 
<a name="l552"><span class="ln">552  </span></a>        plt.savefig(chartfilename) 
<a name="l553"><span class="ln">553  </span></a>        plt.show() 
<a name="l554"><span class="ln">554  </span></a> 
<a name="l555"><span class="ln">555  </span></a> 
<a name="l556"><span class="ln">556  </span></a>    </span><span class="s0">def </span><span class="s1">writeDfToFile(self,printable_dflist,filename): 
<a name="l557"><span class="ln">557  </span></a> 
<a name="l558"><span class="ln">558  </span></a>        print(</span><span class="s3">&quot;in writeDfToFile&quot;</span><span class="s1">) 
<a name="l559"><span class="ln">559  </span></a>        </span><span class="s4"># Create a Pandas Excel writer using XlsxWriter as the engine.</span><span class="s1"> 
<a name="l560"><span class="ln">560  </span></a>        writer = pd.ExcelWriter(filename, engine=</span><span class="s3">'openpyxl'</span><span class="s1">) 
<a name="l561"><span class="ln">561  </span></a> 
<a name="l562"><span class="ln">562  </span></a>        </span><span class="s0">if</span><span class="s1">(len(printable_dflist)!=</span><span class="s2">0</span><span class="s1">): 
<a name="l563"><span class="ln">563  </span></a>            </span><span class="s0">for </span><span class="s1">i </span><span class="s0">in </span><span class="s1">printable_dflist: 
<a name="l564"><span class="ln">564  </span></a>                print(i.name) 
<a name="l565"><span class="ln">565  </span></a>                i.to_excel(writer,sheet_name=i.name) 
<a name="l566"><span class="ln">566  </span></a> 
<a name="l567"><span class="ln">567  </span></a>        </span><span class="s4"># Close the Pandas Excel writer and output the Excel file.</span><span class="s1"> 
<a name="l568"><span class="ln">568  </span></a>        writer.save()</span></pre>
</body>
</html>
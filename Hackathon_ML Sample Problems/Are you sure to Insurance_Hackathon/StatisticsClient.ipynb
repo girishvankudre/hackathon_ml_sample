<html>
<head>
<title>StatisticsClient.py</title>
<meta http-equiv="Content-Type" content="text/html; charset=utf-8">
<style type="text/css">
.ln { color: #999999; font-weight: normal; font-style: normal; }
.s0 { color: rgb(0,0,128); font-weight: bold; }
.s1 { color: rgb(0,0,0); }
.s2 { color: rgb(0,128,128); font-weight: bold; }
.s3 { color: rgb(128,128,128); font-style: italic; }
</style>
</head>
<BODY BGCOLOR="#ffffff">
<TABLE CELLSPACING=0 CELLPADDING=5 COLS=1 WIDTH="100%" BGCOLOR="#c0c0c0" >
<TR><TD><CENTER>
<FONT FACE="Arial, Helvetica" COLOR="#000000">
StatisticsClient.py</FONT>
</center></TD></TR></TABLE>
<pre>
<a name="l1"><span class="ln">1    </span></a><span class="s0">import </span><span class="s1">pandas </span><span class="s0">as </span><span class="s1">pd 
<a name="l2"><span class="ln">2    </span></a></span><span class="s0">from </span><span class="s1">StatisticsCalculator </span><span class="s0">import </span><span class="s1">StatisticsCalculator 
<a name="l3"><span class="ln">3    </span></a> 
<a name="l4"><span class="ln">4    </span></a> 
<a name="l5"><span class="ln">5    </span></a></span><span class="s0">def </span><span class="s1">loadcsv(filename): 
<a name="l6"><span class="ln">6    </span></a>    df = pd.read_csv(filename) 
<a name="l7"><span class="ln">7    </span></a>    </span><span class="s0">return </span><span class="s1">df 
<a name="l8"><span class="ln">8    </span></a> 
<a name="l9"><span class="ln">9    </span></a>traindatafilename=</span><span class="s2">&quot;InsuranceTrainData.csv&quot;</span><span class="s1"> 
<a name="l10"><span class="ln">10   </span></a>testdatafilename=</span><span class="s2">&quot;InsuranceTestData.csv&quot;</span><span class="s1"> 
<a name="l11"><span class="ln">11   </span></a>targetcol=</span><span class="s2">&quot;Claim&quot;</span><span class="s1"> 
<a name="l12"><span class="ln">12   </span></a> 
<a name="l13"><span class="ln">13   </span></a>datafile=loadcsv(traindatafilename) 
<a name="l14"><span class="ln">14   </span></a>testdatafile=loadcsv(testdatafilename) 
<a name="l15"><span class="ln">15   </span></a></span><span class="s3">#dfgroup=datafile['Race']</span><span class="s1"> 
<a name="l16"><span class="ln">16   </span></a> 
<a name="l17"><span class="ln">17   </span></a>printable_dflist_pre=[] 
<a name="l18"><span class="ln">18   </span></a>printable_dflist_baselines=[] 
<a name="l19"><span class="ln">19   </span></a> 
<a name="l20"><span class="ln">20   </span></a>c1 = StatisticsCalculator(datafile) 
<a name="l21"><span class="ln">21   </span></a> 
<a name="l22"><span class="ln">22   </span></a>c1.populate_summary_stats(datafile) 
<a name="l23"><span class="ln">23   </span></a>catcol_summary_df=c1.cat_summary_stats_df 
<a name="l24"><span class="ln">24   </span></a>numcol_summary_df=c1.numeric_summary_stats_df 
<a name="l25"><span class="ln">25   </span></a> 
<a name="l26"><span class="ln">26   </span></a>printable_dflist_pre.append(catcol_summary_df) 
<a name="l27"><span class="ln">27   </span></a>printable_dflist_pre.append(numcol_summary_df) 
<a name="l28"><span class="ln">28   </span></a> 
<a name="l29"><span class="ln">29   </span></a>corrmatrix=c1.getCorrelationMatrix(datafile) 
<a name="l30"><span class="ln">30   </span></a> 
<a name="l31"><span class="ln">31   </span></a>label_encoded_df=c1.label_encoded_df 
<a name="l32"><span class="ln">32   </span></a> 
<a name="l33"><span class="ln">33   </span></a>init_log_reg_stats_df=c1.getInitialLogRegressionStats(label_encoded_df,targetcol) 
<a name="l34"><span class="ln">34   </span></a>printable_dflist_pre.append(init_log_reg_stats_df) 
<a name="l35"><span class="ln">35   </span></a> 
<a name="l36"><span class="ln">36   </span></a>init_actual_test_log_reg_stats_df=c1.getInitialTestLogRegressionStats(label_encoded_df,targetcol,testdatafile) 
<a name="l37"><span class="ln">37   </span></a>printable_dflist_pre.append(init_actual_test_log_reg_stats_df) 
<a name="l38"><span class="ln">38   </span></a> 
<a name="l39"><span class="ln">39   </span></a>init_rand_for_cls_df=c1.getInitialRandomForestStats(label_encoded_df,targetcol) 
<a name="l40"><span class="ln">40   </span></a> 
<a name="l41"><span class="ln">41   </span></a>init_rand_for_imp_features_df=c1.init_rnd_for_cls_feature_imp_df 
<a name="l42"><span class="ln">42   </span></a> 
<a name="l43"><span class="ln">43   </span></a>printable_dflist_pre.append(init_rand_for_imp_features_df) 
<a name="l44"><span class="ln">44   </span></a>printable_dflist_pre.append(init_rand_for_cls_df) 
<a name="l45"><span class="ln">45   </span></a> 
<a name="l46"><span class="ln">46   </span></a>init_RFE_log_reg_df=c1.getFeaturesAndRankingsUsingRFEandLogisticRegression(label_encoded_df,targetcol) 
<a name="l47"><span class="ln">47   </span></a>printable_dflist_pre.append(init_RFE_log_reg_df) 
<a name="l48"><span class="ln">48   </span></a> 
<a name="l49"><span class="ln">49   </span></a>printable_dflist_pre.append(corrmatrix) 
<a name="l50"><span class="ln">50   </span></a> 
<a name="l51"><span class="ln">51   </span></a></span><span class="s3"># run stats on test file now</span><span class="s1"> 
<a name="l52"><span class="ln">52   </span></a> 
<a name="l53"><span class="ln">53   </span></a>c1.writeDfToFile(printable_dflist_pre,</span><span class="s2">'Claims_summary_stats_baseline.xlsx'</span><span class="s1">) 
<a name="l54"><span class="ln">54   </span></a> 
<a name="l55"><span class="ln">55   </span></a> 
<a name="l56"><span class="ln">56   </span></a> 
<a name="l57"><span class="ln">57   </span></a></span><span class="s3">#c1.drawPie(dfgroup,&quot;Race Pie chart&quot;)</span><span class="s1"> 
<a name="l58"><span class="ln">58   </span></a></span><span class="s3">#c1.drawWaffleChart(datafile,&quot;Race&quot;)</span><span class="s1"> 
<a name="l59"><span class="ln">59   </span></a></span><span class="s3">#c1.drawBarChart(dfgroup,&quot;Race&quot;,&quot;Race&quot;,&quot;Frequency&quot;)</span><span class="s1"> 
<a name="l60"><span class="ln">60   </span></a> 
<a name="l61"><span class="ln">61   </span></a></span></pre>
</body>
</html>